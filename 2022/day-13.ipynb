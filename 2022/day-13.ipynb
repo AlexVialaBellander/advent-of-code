{
 "cells": [
  {
   "cell_type": "markdown",
   "metadata": {},
   "source": [
    "# 2022-12-13"
   ]
  },
  {
   "cell_type": "markdown",
   "metadata": {},
   "source": [
    "## Performance Summary\n",
    "\n",
    "Today p2 uses code defined functions in p1, however, they do not share any data. Therefore, the performance of p1 and p2 are independent of each other with the exception of the time it takes to compile the function.\n",
    "\n",
    "Inital p1: 752 µs ± 10.5 µs\n",
    "\n",
    "Initial p2: 14.8 ms ± 246 µs"
   ]
  },
  {
   "cell_type": "markdown",
   "metadata": {},
   "source": [
    "## Initial solution\n",
    "Woke up att 5:50am (~Midnight UTC-5) and did it on time. \n",
    "```\n",
    "      --------Part 1--------   --------Part 2--------\n",
    "Day       Time   Rank  Score       Time   Rank  Score\n",
    " 13   03:14:39   9626      0   03:35:04   9234      0\n",
    "\n",
    "```"
   ]
  },
  {
   "cell_type": "markdown",
   "metadata": {},
   "source": [
    "### Puzzle 1\n",
    "\n",
    "A recusive solution that breaks down the left and right input until both of the inputs are comparable as ints. Then it returns the result of the comparison."
   ]
  },
  {
   "cell_type": "code",
   "execution_count": 384,
   "metadata": {},
   "outputs": [
    {
     "data": {
      "text/plain": [
       "5340"
      ]
     },
     "execution_count": 384,
     "metadata": {},
     "output_type": "execute_result"
    }
   ],
   "source": [
    "data = [list(map(eval, x.splitlines())) for x in open(\"data/day-13.txt\").read().split(\"\\n\\n\")]\n",
    "\n",
    "def compare(left, right):\n",
    "    vals = []\n",
    "    if type(left) == list and type(right) == list:\n",
    "        short = min(len(left), len(right))\n",
    "        for i in range(short):\n",
    "            result = compare(left[i], right[i])\n",
    "            if result is not None:\n",
    "                return result\n",
    "        if len(left) < len(right):\n",
    "            return True\n",
    "        elif len(left) > len(right):\n",
    "            return False\n",
    "    elif type(left) == int and type(right) == int:\n",
    "        if left < right:\n",
    "            vals.append(True)\n",
    "        if left > right:\n",
    "            vals.append(False)\n",
    "        else:\n",
    "            pass\n",
    "    elif type(left) == int:\n",
    "        vals += [compare([left], right)]\n",
    "    elif type(right) == int:\n",
    "        vals += [compare(left, [right])]\n",
    "    else:\n",
    "        raise Exception(\"Unknown type combination\")\n",
    "    return all(vals) if len(vals) != 0 else None\n",
    "\n",
    "def p1():\n",
    "    idxs = []\n",
    "    for i, (left, right) in enumerate(data[:]):\n",
    "        idxs+= [i+1] if compare(left, right) else []\n",
    "    return sum(idxs)\n",
    "p1()"
   ]
  },
  {
   "cell_type": "markdown",
   "metadata": {},
   "source": [
    "### Puzzle 2\n",
    "We use the inbuilt sorted python function with a custom key function."
   ]
  },
  {
   "cell_type": "code",
   "execution_count": 385,
   "metadata": {},
   "outputs": [
    {
     "data": {
      "text/plain": [
       "21276"
      ]
     },
     "execution_count": 385,
     "metadata": {},
     "output_type": "execute_result"
    }
   ],
   "source": [
    "from functools import cmp_to_key\n",
    "from math import prod\n",
    "\n",
    "items = [eval(y) for x in open(\"data/day-13.txt\").read().split(\"\\n\\n\") for y in x.split()] + [[2]] + [[6]]\n",
    "\n",
    "# Uses the compare function from above\n",
    "def compare2(left, right):\n",
    "    result = compare(left, right)\n",
    "    return 1 if result else -1 if not result else 0\n",
    "\n",
    "def p2():\n",
    "    sorted_items = sorted(items, key=cmp_to_key(compare2), reverse=True)\n",
    "    return prod([sorted_items.index(x) + 1 for x in [[6], [2]]])\n",
    "p2()"
   ]
  },
  {
   "cell_type": "markdown",
   "metadata": {},
   "source": [
    "# Learnings"
   ]
  },
  {
   "cell_type": "markdown",
   "metadata": {},
   "source": [
    "Today was fun! I have never really dealt with sorting and working with recursion is also quite new. I have done some recursion already during this year's AoC, however, not that much prior. So learning and enjoying this a lot. \n",
    "\n",
    "- Python `sorted()` function\n",
    "- Python `functools` function `cmp_to_key()` to convert a comparison function to a key function for the `sorted()` function.\n",
    "- Used `math.prod()` to multiply all elements in a list instead of `np.prod()` as I did in the previous days."
   ]
  },
  {
   "cell_type": "markdown",
   "metadata": {},
   "source": [
    "# Runtimes"
   ]
  },
  {
   "cell_type": "code",
   "execution_count": 386,
   "metadata": {},
   "outputs": [
    {
     "name": "stdout",
     "output_type": "stream",
     "text": [
      "752 µs ± 10.5 µs per loop (mean ± std. dev. of 7 runs, 1,000 loops each)\n"
     ]
    }
   ],
   "source": [
    "%%timeit\n",
    "p1()"
   ]
  },
  {
   "cell_type": "code",
   "execution_count": 387,
   "metadata": {},
   "outputs": [
    {
     "name": "stdout",
     "output_type": "stream",
     "text": [
      "14.8 ms ± 246 µs per loop (mean ± std. dev. of 7 runs, 100 loops each)\n"
     ]
    }
   ],
   "source": [
    "%%timeit\n",
    "p2()"
   ]
  }
 ],
 "metadata": {
  "kernelspec": {
   "display_name": "Python 3.10.6 64-bit",
   "language": "python",
   "name": "python3"
  },
  "language_info": {
   "codemirror_mode": {
    "name": "ipython",
    "version": 3
   },
   "file_extension": ".py",
   "mimetype": "text/x-python",
   "name": "python",
   "nbconvert_exporter": "python",
   "pygments_lexer": "ipython3",
   "version": "3.10.6"
  },
  "orig_nbformat": 4,
  "vscode": {
   "interpreter": {
    "hash": "b0fa6594d8f4cbf19f97940f81e996739fb7646882a419484c72d19e05852a7e"
   }
  }
 },
 "nbformat": 4,
 "nbformat_minor": 2
}
