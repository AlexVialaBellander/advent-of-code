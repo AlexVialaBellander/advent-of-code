{
 "cells": [
  {
   "cell_type": "markdown",
   "metadata": {},
   "source": [
    "# 2022-12-03"
   ]
  },
  {
   "cell_type": "markdown",
   "metadata": {},
   "source": [
    "## Initial solution\n",
    "\n",
    "Started local time 12:19 finished local time 13:03. 44 minutes. Severely hangover.\n",
    "\n",
    "```\n",
    " --------Part 1--------   --------Part 2--------\n",
    "Day       Time   Rank  Score       Time   Rank  Score\n",
    "  3   06:48:55  48852      0   07:01:51  44287      0\n",
    "```"
   ]
  },
  {
   "cell_type": "markdown",
   "metadata": {},
   "source": [
    "### First Puzzle\n",
    "We create a lookup table and then iterate through the list to find the intersection. We then remove duplicates by using set and then we fetch the associated priority, also using a lookup table.\n",
    "\n",
    "Hashmaps ❤️"
   ]
  },
  {
   "cell_type": "code",
   "execution_count": 78,
   "metadata": {},
   "outputs": [
    {
     "data": {
      "text/plain": [
       "7793"
      ]
     },
     "execution_count": 78,
     "metadata": {},
     "output_type": "execute_result"
    }
   ],
   "source": [
    "from collections import defaultdict\n",
    "import string\n",
    "\n",
    "with open(\"data/day-3.txt\") as f:\n",
    "    data = f.read().splitlines()\n",
    "\n",
    "discover = lambda x: defaultdict(bool, {i: True for i in x})\n",
    "find = lambda x, y: [char for char in y if x[char]]\n",
    "priorities = {\n",
    "    x: i + 1 for i, x in enumerate(string.ascii_lowercase + string.ascii_uppercase)\n",
    "}\n",
    "sum(\n",
    "    [\n",
    "        priorities.get(set(find(discover(x[len(x) // 2 :]), x[: len(x) // 2])).pop())\n",
    "        for x in data\n",
    "    ]\n",
    ")"
   ]
  },
  {
   "cell_type": "markdown",
   "metadata": {},
   "source": [
    "### Second Puzzle\n",
    "We can reuse pretty much all of our previous code, it is essentially divide and conquer. Although hardcoded here, if one wants to scale this to any number of comparisons, a divide and conquer approach would be better."
   ]
  },
  {
   "cell_type": "code",
   "execution_count": 79,
   "metadata": {},
   "outputs": [
    {
     "data": {
      "text/plain": [
       "2499"
      ]
     },
     "execution_count": 79,
     "metadata": {},
     "output_type": "execute_result"
    }
   ],
   "source": [
    "sum(\n",
    "    [\n",
    "        priorities.get(set(find(discover(x[2]), find(discover(x[0]), x[1]))).pop())\n",
    "        for x in [data[3 * i : 3 * i + 3] for i in range(len(data) // 3)]\n",
    "    ]\n",
    ")"
   ]
  },
  {
   "cell_type": "markdown",
   "metadata": {},
   "source": [
    "# Other learnings\n",
    "\n",
    "- I learned that the string module can be used to fetch the alphabet.\n",
    "- I was reminded that the first argument in defaultdict must be a callable."
   ]
  },
  {
   "cell_type": "markdown",
   "metadata": {},
   "source": [
    "# Alternate solution\n",
    "Here we use a set to store the unique values and then we use the intersection method to find the intersection."
   ]
  },
  {
   "cell_type": "code",
   "execution_count": 96,
   "metadata": {},
   "outputs": [
    {
     "data": {
      "text/plain": [
       "7793"
      ]
     },
     "execution_count": 96,
     "metadata": {},
     "output_type": "execute_result"
    }
   ],
   "source": [
    "data = open(\"data/day-3.txt\").read().splitlines()\n",
    "priorities = {\n",
    "    x: i + 1 for i, x in enumerate(string.ascii_lowercase + string.ascii_uppercase)\n",
    "}\n",
    "sum(\n",
    "    [\n",
    "        priorities.get(\n",
    "            set(x[: len(x) // 2 :]).intersection(set(x[len(x) // 2 :])).pop()\n",
    "        )\n",
    "        for x in data\n",
    "    ]\n",
    ")"
   ]
  },
  {
   "cell_type": "code",
   "execution_count": 135,
   "metadata": {},
   "outputs": [
    {
     "data": {
      "text/plain": [
       "2499"
      ]
     },
     "execution_count": 135,
     "metadata": {},
     "output_type": "execute_result"
    }
   ],
   "source": [
    "sum(\n",
    "    [\n",
    "        priorities.get(set(x).intersection(set(y)).intersection(set(z)).pop())\n",
    "        for x, y, z in zip(data[::3], data[1::3], data[2::3])\n",
    "    ]\n",
    ")"
   ]
  },
  {
   "cell_type": "markdown",
   "metadata": {},
   "source": [
    "# Runtimes"
   ]
  },
  {
   "cell_type": "markdown",
   "metadata": {},
   "source": [
    "## Initial solution"
   ]
  },
  {
   "cell_type": "code",
   "execution_count": 81,
   "metadata": {},
   "outputs": [
    {
     "name": "stdout",
     "output_type": "stream",
     "text": [
      "648 µs ± 31.3 µs per loop (mean ± std. dev. of 7 runs, 1,000 loops each)\n"
     ]
    }
   ],
   "source": [
    "%%timeit\n",
    "with open(\"data/day-3.txt\") as f:\n",
    "    data = f.read().splitlines()\n",
    "\n",
    "discover = lambda x: defaultdict(bool, {i: True for i in x})\n",
    "find = lambda x, y: [char for char in y if x[char]]\n",
    "priorities = {\n",
    "    x: i + 1 for i, x in enumerate(string.ascii_lowercase + string.ascii_uppercase)\n",
    "}\n",
    "\n",
    "sum(\n",
    "    [\n",
    "        priorities.get(set(find(discover(x[len(x) // 2 :]), x[: len(x) // 2])).pop())\n",
    "        for x in data\n",
    "    ]\n",
    ")"
   ]
  },
  {
   "cell_type": "code",
   "execution_count": 82,
   "metadata": {},
   "outputs": [
    {
     "name": "stdout",
     "output_type": "stream",
     "text": [
      "556 µs ± 744 ns per loop (mean ± std. dev. of 7 runs, 1,000 loops each)\n"
     ]
    }
   ],
   "source": [
    "%%timeit\n",
    "with open(\"data/day-3.txt\") as f:\n",
    "    data = f.read().splitlines()\n",
    "\n",
    "discover = lambda x: defaultdict(bool, {i: True for i in x})\n",
    "find = lambda x, y: [char for char in y if x[char]]\n",
    "priorities = {\n",
    "    x: i + 1 for i, x in enumerate(string.ascii_lowercase + string.ascii_uppercase)\n",
    "}\n",
    "\n",
    "sum(\n",
    "    [\n",
    "        priorities.get(set(find(discover(x[2]), find(discover(x[0]), x[1]))).pop())\n",
    "        for x in [data[3 * i : 3 * i + 3] for i in range(len(data) // 3)]\n",
    "    ]\n",
    ")"
   ]
  },
  {
   "cell_type": "markdown",
   "metadata": {},
   "source": [
    "## Alternate solution"
   ]
  },
  {
   "cell_type": "code",
   "execution_count": 138,
   "metadata": {},
   "outputs": [
    {
     "name": "stdout",
     "output_type": "stream",
     "text": [
      "344 µs ± 8.02 µs per loop (mean ± std. dev. of 7 runs, 1,000 loops each)\n"
     ]
    }
   ],
   "source": [
    "%%timeit\n",
    "data = open(\"data/day-3.txt\").read().splitlines()\n",
    "priorities = {\n",
    "    x: i + 1 for i, x in enumerate(string.ascii_lowercase + string.ascii_uppercase)\n",
    "}\n",
    "sum(\n",
    "    [\n",
    "        priorities.get(\n",
    "            set(x[: len(x) // 2 :]).intersection(set(x[len(x) // 2 :])).pop()\n",
    "        )\n",
    "        for x in data\n",
    "    ]\n",
    ")"
   ]
  },
  {
   "cell_type": "code",
   "execution_count": 139,
   "metadata": {},
   "outputs": [
    {
     "name": "stdout",
     "output_type": "stream",
     "text": [
      "291 µs ± 1.34 µs per loop (mean ± std. dev. of 7 runs, 1,000 loops each)\n"
     ]
    }
   ],
   "source": [
    "%%timeit\n",
    "data = open(\"data/day-3.txt\").read().splitlines()\n",
    "priorities = {\n",
    "    x: i + 1 for i, x in enumerate(string.ascii_lowercase + string.ascii_uppercase)\n",
    "}\n",
    "sum(\n",
    "    [\n",
    "        priorities.get(set(x).intersection(set(y)).intersection(set(z)).pop())\n",
    "        for x, y, z in zip(data[::3], data[1::3], data[2::3])\n",
    "    ]\n",
    ")"
   ]
  }
 ],
 "metadata": {
  "kernelspec": {
   "display_name": "Python 3.10.6 64-bit",
   "language": "python",
   "name": "python3"
  },
  "language_info": {
   "codemirror_mode": {
    "name": "ipython",
    "version": 3
   },
   "file_extension": ".py",
   "mimetype": "text/x-python",
   "name": "python",
   "nbconvert_exporter": "python",
   "pygments_lexer": "ipython3",
   "version": "3.10.6"
  },
  "orig_nbformat": 4,
  "vscode": {
   "interpreter": {
    "hash": "b0fa6594d8f4cbf19f97940f81e996739fb7646882a419484c72d19e05852a7e"
   }
  }
 },
 "nbformat": 4,
 "nbformat_minor": 2
}
