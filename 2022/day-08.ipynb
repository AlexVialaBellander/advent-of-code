{
 "cells": [
  {
   "cell_type": "markdown",
   "metadata": {},
   "source": [
    "# 2022-12-08"
   ]
  },
  {
   "cell_type": "markdown",
   "metadata": {},
   "source": [
    "## Performance Summary\n",
    "Inital p1: 45.7 ms ± 644 µs\n",
    "\n",
    "Initial p2: 40.8 ms ± 153 µs"
   ]
  },
  {
   "cell_type": "markdown",
   "metadata": {},
   "source": [
    "## Initial solution\n",
    "Woke up att 5:50am (~Midnight UTC-5) and did it on time. \n",
    "```\n",
    "      --------Part 1--------   --------Part 2--------\n",
    "Day       Time   Rank  Score       Time   Rank  Score\n",
    "  8   01:09:10  11478      0   01:50:03  11266      0\n",
    "```"
   ]
  },
  {
   "cell_type": "markdown",
   "metadata": {},
   "source": [
    "### Puzzle 1\n",
    "Iterate through the grid and check the current position against the largest tree in the x,y directions from the tree. If the tree is visible from any of the directions, add it to the count."
   ]
  },
  {
   "cell_type": "code",
   "execution_count": 195,
   "metadata": {},
   "outputs": [
    {
     "data": {
      "text/plain": [
       "1809"
      ]
     },
     "execution_count": 195,
     "metadata": {},
     "output_type": "execute_result"
    }
   ],
   "source": [
    "# Load the data and import required libraries\n",
    "import numpy as np\n",
    "import itertools\n",
    "\n",
    "grid = np.array(\n",
    "    [list(x) for x in open(\"data/day-8.txt\").read().splitlines()], dtype=\"int\"\n",
    ")\n",
    "\n",
    "visible = (grid.shape[0] - 1) * 4\n",
    "for x, y in itertools.product(range(1, grid.shape[0] - 1), range(1, grid.shape[1] - 1)):\n",
    "    (bottom_max, top_max) = grid[:, y][x + 1 :].max(), grid[:, y][:x].max()\n",
    "    (left_max, right_max) = grid[x, :][:y].max(), grid[x, :][y + 1 :].max()\n",
    "    if (grid[x, y] > np.array([bottom_max, top_max, left_max, right_max])).any():\n",
    "        visible += 1\n",
    "visible"
   ]
  },
  {
   "cell_type": "markdown",
   "metadata": {},
   "source": [
    "### Puzzle 2\n",
    "In this puzzle, iterate through the grid and fetch the trees in the x,y directions from the tree, relative to the tree. Calculate the number of trees that are smaller than the current tree and calculate the product."
   ]
  },
  {
   "cell_type": "code",
   "execution_count": 196,
   "metadata": {},
   "outputs": [
    {
     "data": {
      "text/plain": [
       "479400"
      ]
     },
     "execution_count": 196,
     "metadata": {},
     "output_type": "execute_result"
    }
   ],
   "source": [
    "def distance(x, direction):\n",
    "    distance = 0\n",
    "    for y in direction:\n",
    "        if y < x:\n",
    "            distance += 1\n",
    "        else:\n",
    "            distance += 1\n",
    "            break\n",
    "    return distance\n",
    "\n",
    "\n",
    "max_scenic_score = 0\n",
    "for x, y in itertools.product(range(1, grid.shape[0] - 1), range(1, grid.shape[1] - 1)):\n",
    "    views = [\n",
    "        grid[x, :][:y][::-1],\n",
    "        grid[:, y][:x][::-1],\n",
    "        grid[x, :][y + 1 :],\n",
    "        grid[:, y][x + 1 :],\n",
    "    ]\n",
    "    scenic_score = np.product(list(map(distance, [grid[x, y]] * 4, views)))\n",
    "    max_scenic_score = max(max_scenic_score, scenic_score)\n",
    "max_scenic_score"
   ]
  },
  {
   "cell_type": "markdown",
   "metadata": {},
   "source": [
    "# Learnings & Reflections"
   ]
  },
  {
   "cell_type": "markdown",
   "metadata": {},
   "source": [
    "Another day, another puzzle. Todays puzzle was fun, although not happy either with todays solution. I think I could have done it in a more elegant way but I tried to be faster instead. \n",
    "\n",
    "The solution for p1 and p2 are very inefficient since it calculates the max() or iterates over subsets that have previously already been iterated."
   ]
  },
  {
   "cell_type": "markdown",
   "metadata": {},
   "source": [
    "# Runtimes"
   ]
  },
  {
   "cell_type": "code",
   "execution_count": 197,
   "metadata": {},
   "outputs": [
    {
     "name": "stdout",
     "output_type": "stream",
     "text": [
      "45.7 ms ± 644 µs per loop (mean ± std. dev. of 7 runs, 10 loops each)\n"
     ]
    }
   ],
   "source": [
    "%%timeit\n",
    "grid = np.array(\n",
    "    [list(x) for x in open(\"data/day-8.txt\").read().splitlines()], dtype=\"int\"\n",
    ")\n",
    "\n",
    "visible = (grid.shape[0] - 1) * 4\n",
    "for x, y in itertools.product(range(1, grid.shape[0] - 1), range(1, grid.shape[1] - 1)):\n",
    "    (bottom_max, top_max) = grid[:, y][x + 1 :].max(), grid[:, y][:x].max()\n",
    "    (left_max, right_max) = grid[x, :][:y].max(), grid[x, :][y + 1 :].max()\n",
    "    if (grid[x, y] > np.array([bottom_max, top_max, left_max, right_max])).any():\n",
    "        visible += 1\n",
    "visible"
   ]
  },
  {
   "cell_type": "code",
   "execution_count": 198,
   "metadata": {},
   "outputs": [
    {
     "name": "stdout",
     "output_type": "stream",
     "text": [
      "40.8 ms ± 153 µs per loop (mean ± std. dev. of 7 runs, 10 loops each)\n"
     ]
    }
   ],
   "source": [
    "%%timeit\n",
    "\n",
    "\n",
    "def distance(x, direction):\n",
    "    distance = 0\n",
    "    for y in direction:\n",
    "        if y < x:\n",
    "            distance += 1\n",
    "        else:\n",
    "            distance += 1\n",
    "            break\n",
    "    return distance\n",
    "\n",
    "\n",
    "max_scenic_score = 0\n",
    "for x, y in itertools.product(range(1, grid.shape[0] - 1), range(1, grid.shape[1] - 1)):\n",
    "    views = [\n",
    "        grid[x, :][:y][::-1],\n",
    "        grid[:, y][:x][::-1],\n",
    "        grid[x, :][y + 1 :],\n",
    "        grid[:, y][x + 1 :],\n",
    "    ]\n",
    "    scenic_score = np.product(list(map(distance, [grid[x, y]] * 4, views)))\n",
    "    max_scenic_score = max(max_scenic_score, scenic_score)\n",
    "max_scenic_score"
   ]
  }
 ],
 "metadata": {
  "kernelspec": {
   "display_name": "Python 3.10.6 64-bit",
   "language": "python",
   "name": "python3"
  },
  "language_info": {
   "codemirror_mode": {
    "name": "ipython",
    "version": 3
   },
   "file_extension": ".py",
   "mimetype": "text/x-python",
   "name": "python",
   "nbconvert_exporter": "python",
   "pygments_lexer": "ipython3",
   "version": "3.10.6"
  },
  "orig_nbformat": 4,
  "vscode": {
   "interpreter": {
    "hash": "b0fa6594d8f4cbf19f97940f81e996739fb7646882a419484c72d19e05852a7e"
   }
  }
 },
 "nbformat": 4,
 "nbformat_minor": 2
}
