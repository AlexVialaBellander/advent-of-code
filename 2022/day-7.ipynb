{
 "cells": [
  {
   "cell_type": "markdown",
   "metadata": {},
   "source": [
    "# 2022-12-06"
   ]
  },
  {
   "cell_type": "markdown",
   "metadata": {},
   "source": [
    "## Performance Summary\n",
    "Inital p1 & p2: 2.67 ms ± 28.4 µs"
   ]
  },
  {
   "cell_type": "markdown",
   "metadata": {},
   "source": [
    "## Initial solution\n",
    "Woke up att 6:00am (~Midnight UTC-5) and did it on time. \n",
    "```\n",
    "      --------Part 1--------   --------Part 2--------\n",
    "Day       Time   Rank  Score       Time   Rank  Score\n",
    "  7   05:33:29  24961      0   05:51:29  24067      0\n",
    "```"
   ]
  },
  {
   "cell_type": "markdown",
   "metadata": {},
   "source": [
    "### Both puzzles\n",
    "\n",
    "This took way longer than expected, embarrassingly 6h. However, todays solution is very class like and that I like about it. We iterate through each input row and build a tree that represents the file structure. During runtime of building the tree we also calculate directory sizes without regard to child directories. We also store the type of object in the tree using metadata `type = _dir | _file`. We use this later when we recursivly traverse our tree to calculate the sums of directories. For P2, during the traversal, we store all cumulated-directory-sizes in a list and find the minimum that is larger than our requirement."
   ]
  },
  {
   "cell_type": "code",
   "execution_count": 105,
   "metadata": {},
   "outputs": [],
   "source": [
    "from functools import reduce\n",
    "from operator import getitem\n",
    "\n",
    "\n",
    "rows = [x.split(\" \") for x in open(\"data/day-7.txt\").read().splitlines()]"
   ]
  },
  {
   "cell_type": "code",
   "execution_count": 106,
   "metadata": {},
   "outputs": [
    {
     "name": "stdout",
     "output_type": "stream",
     "text": [
      "Outermost sum: 46728267\n",
      "P1 sum: 2781648\n",
      "We need to remove: 6728267, smallest directory: 7490863\n"
     ]
    }
   ],
   "source": [
    "class FileSystem():\n",
    "    def __init__(self):\n",
    "        self.tree = dict()\n",
    "        self.links = dict()\n",
    "        self.current_dir = self.tree\n",
    "        self.path = []\n",
    "        self.p1sum = 0\n",
    "        self.dirsizes = []\n",
    "    def cd(self, dir):\n",
    "        if dir == \"..\":\n",
    "            self.path.pop()\n",
    "            self.current_dir = reduce(getitem, self.path, self.tree)\n",
    "        else:\n",
    "            self.path.append(dir)\n",
    "            self.current_dir[dir] = dict(_type=\"dir\")\n",
    "            self.current_dir = self.current_dir[dir]\n",
    "    def create(self, file, **kwargs):\n",
    "        self.current_dir[file] = dict(kwargs)\n",
    "    def read_input(self, *args):\n",
    "        match args[0]:\n",
    "            case \"$\":\n",
    "                match args[1]:\n",
    "                    case \"cd\": self.cd(args[2])\n",
    "                    case \"ls\": self.current_dir[\"_itemsizes\"] = 0\n",
    "            case \"dir\":\n",
    "                self.create(args[1], _type=\"dir\")\n",
    "            case _:\n",
    "                self.create(args[1],  _type=\"file\", _size=args[0])\n",
    "                self.current_dir[\"_itemsizes\"] += int(args[0])\n",
    "    def build(self):\n",
    "        for row in rows: self.read_input(*row) \n",
    "    def traverse(self, tree):\n",
    "        subdirs = [self.traverse(tree[x]) for x in tree if type(tree[x]) == dict and tree[x][\"_type\"] == \"dir\"]\n",
    "        dirsize = tree[\"_itemsizes\"] + sum(subdirs)\n",
    "        self.p1sum += dirsize if dirsize <= 100000 else 0\n",
    "        self.dirsizes.append(dirsize)\n",
    "        tree[\"_dirsize\"] = dirsize\n",
    "        return dirsize\n",
    "    def traverse_tree(self):\n",
    "        self.outersum = self.traverse(self.tree[\"/\"])\n",
    "        self.p2req = 30000000 - (70000000 - self.outersum)\n",
    "        self.p2ans = min([x for x in self.dirsizes if x >= self.p2req])\n",
    "        return self.outersum\n",
    "    \n",
    "system = FileSystem(); system.build(); system.traverse_tree(); system.traverse_tree()\n",
    "\n",
    "print(f\"Outermost sum: {system.outersum}\")\n",
    "print(f\"P1 sum: {system.p1sum}\")\n",
    "print(f\"We need to remove: {system.p2req}, smallest directory: {system.p2ans}\")"
   ]
  },
  {
   "cell_type": "code",
   "execution_count": 107,
   "metadata": {},
   "outputs": [],
   "source": [
    "assert(system.traverse_tree() == sum([int(x[0]) for x in rows if x[0].isdigit()]))\n",
    "assert(1084924+164331+102120 == system.tree[\"/\"][\"cvt\"][\"chhdjtlw\"][\"_dirsize\"])"
   ]
  },
  {
   "cell_type": "markdown",
   "metadata": {},
   "source": [
    "# Learnings"
   ]
  },
  {
   "cell_type": "markdown",
   "metadata": {},
   "source": [
    "So today took a very long time. I spent a lot of time on figuring out just how to build a tree that one could navigate up and down in. Once that was in place, I ran into issues with how I calculated the non-cumulative-directory size. These issues took quite a while to solve. The recursion part went relatively quick.\n",
    "\n",
    "- I need to learn how to work with trees in python."
   ]
  },
  {
   "cell_type": "markdown",
   "metadata": {},
   "source": [
    "# Runtimes"
   ]
  },
  {
   "cell_type": "code",
   "execution_count": 104,
   "metadata": {},
   "outputs": [
    {
     "name": "stdout",
     "output_type": "stream",
     "text": [
      "2.67 ms ± 28.4 µs per loop (mean ± std. dev. of 7 runs, 100 loops each)\n"
     ]
    }
   ],
   "source": [
    "%%timeit\n",
    "system = FileSystem(); system.build(); system.traverse_tree(); system.traverse_tree()"
   ]
  },
  {
   "cell_type": "code",
   "execution_count": null,
   "metadata": {},
   "outputs": [],
   "source": []
  }
 ],
 "metadata": {
  "kernelspec": {
   "display_name": "Python 3.10.6 64-bit",
   "language": "python",
   "name": "python3"
  },
  "language_info": {
   "codemirror_mode": {
    "name": "ipython",
    "version": 3
   },
   "file_extension": ".py",
   "mimetype": "text/x-python",
   "name": "python",
   "nbconvert_exporter": "python",
   "pygments_lexer": "ipython3",
   "version": "3.10.6"
  },
  "orig_nbformat": 4,
  "vscode": {
   "interpreter": {
    "hash": "b0fa6594d8f4cbf19f97940f81e996739fb7646882a419484c72d19e05852a7e"
   }
  }
 },
 "nbformat": 4,
 "nbformat_minor": 2
}
