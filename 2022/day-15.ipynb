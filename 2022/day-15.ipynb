{
 "cells": [
  {
   "attachments": {},
   "cell_type": "markdown",
   "metadata": {},
   "source": [
    "# 2022-12-15"
   ]
  },
  {
   "cell_type": "markdown",
   "metadata": {},
   "source": [
    "## Performance Summary\n",
    "Inital p1: \n",
    "\n",
    "Initial p2: "
   ]
  },
  {
   "attachments": {},
   "cell_type": "markdown",
   "metadata": {},
   "source": [
    "## Initial solution\n",
    "Not sure about when I got up or if I was distributed or not.\n",
    "```\n",
    "      --------Part 1--------   --------Part 2--------\n",
    "Day       Time   Rank  Score       Time   Rank  Score\n",
    " 15   03:05:19   8738      0   05:02:19   7122      0\n",
    "```"
   ]
  },
  {
   "attachments": {},
   "cell_type": "markdown",
   "metadata": {},
   "source": [
    "### Puzzle 1\n",
    "\n",
    "This solution is quite interesting I think.\n",
    "\n",
    "We project a straight orthogonal line from each point onto the y=2000000 line. For each sensor, we then check if the n1 distance between the intersection of the line and the sensor is larger than the sensor's range. If the sensor's range is larger, it means that the line was reachable by the sensor. We then calculate the difference between the n1 distance and the range of the sensor, since it is larger, we know that the residual distance can be used to reach nearby points on the y-line. We then add the residual distance to the total distance covered by the sensors."
   ]
  },
  {
   "cell_type": "code",
   "execution_count": 1,
   "metadata": {},
   "outputs": [
    {
     "data": {
      "text/plain": [
       "4811413"
      ]
     },
     "execution_count": 1,
     "metadata": {},
     "output_type": "execute_result"
    }
   ],
   "source": [
    "# Parse data\n",
    "data = open(\"data/day-15.txt\").read().splitlines()\n",
    "sensors = dict()\n",
    "c = lambda x, r: int(x.split(\"=\")[-1][:r])\n",
    "n1 = lambda p, x: (abs(p[0] - x[0]) + abs(p[1] - x[1]))\n",
    "\n",
    "for information in data:\n",
    "    chunks = information.split(\" \")\n",
    "    sensor = (c(chunks[2], -1), c(chunks[3], -1))\n",
    "    beacon = (c(chunks[8], -1), c(chunks[9], None))\n",
    "    sensors[sensor] = dict(beacon=beacon, distance=n1(sensor, beacon))\n",
    "    \n",
    "y = 2000000\n",
    "ranges = []\n",
    "for sensor, info in zip(sensors, sensors.values()):\n",
    "    if abs(y - sensor[1]) <= info[\"distance\"]:\n",
    "        remains = info[\"distance\"] - abs(y - sensor[1])\n",
    "        ranges.append(range(sensor[0] - remains, sensor[0] + remains + 1))\n",
    "\n",
    "dumb_set = set()\n",
    "for r in ranges: dumb_set.update([*r])\n",
    "beacons_on_line = len({info[\"beacon\"] for info in sensors.values() if info[\"beacon\"][1] == y})\n",
    "len(dumb_set) - beacons_on_line"
   ]
  },
  {
   "attachments": {},
   "cell_type": "markdown",
   "metadata": {},
   "source": [
    "### Puzzle 2\n",
    "This solution is quite slow. However, we intend to traverse through the entire space defined by the puzzle. For each point, beginning with the first (0,0), we check the n1 distance between the point and the sensors. We then calculate the residual distance. If the residuals are positive, take the largest residual, and then skip to a point on the line that is the largest residual away from the point. This allows us to iterate through the space faster.\n",
    "\n",
    "When we reach a point that is not reachable by any sensor we know that we have found the answer."
   ]
  },
  {
   "cell_type": "code",
   "execution_count": 2,
   "metadata": {},
   "outputs": [
    {
     "name": "stdout",
     "output_type": "stream",
     "text": [
      "(3292963, 3019123) is not reachable\n",
      "tuning frequency: 13171859019123\n"
     ]
    }
   ],
   "source": [
    "# Parse data\n",
    "data = open(\"data/day-15.txt\").read().splitlines()\n",
    "sensors = dict()\n",
    "c = lambda x, r: int(x.split(\"=\")[-1][:r])\n",
    "n1 = lambda p, x: (abs(p[0] - x[0]) + abs(p[1] - x[1]))\n",
    "\n",
    "for information in data:\n",
    "    chunks = information.split(\" \")\n",
    "    sensor = (c(chunks[2], -1), c(chunks[3], -1))\n",
    "    beacon = (c(chunks[8], -1), c(chunks[9], None))\n",
    "    sensors[sensor] = dict(beacon=beacon, distance=n1(sensor, beacon))\n",
    "    \n",
    "y = 2000000\n",
    "ranges = []\n",
    "for sensor, info in zip(sensors, sensors.values()):\n",
    "    if abs(y - sensor[1]) <= info[\"distance\"]:\n",
    "        remains = info[\"distance\"] - abs(y - sensor[1])\n",
    "        ranges.append(range(sensor[0] - remains, sensor[0] + remains + 1))\n",
    "\n",
    "dumb_set = set()\n",
    "for r in ranges: dumb_set.update([*r])\n",
    "beacons_on_line = len({info[\"beacon\"] for info in sensors.values() if info[\"beacon\"][1] == y})\n",
    "len(dumb_set) - beacons_on_line\n",
    "\n",
    "x = 0\n",
    "terminated = False\n",
    "while(x <= 4000000 and not terminated):    \n",
    "    if x % 250000 == 0:\n",
    "        print(x, \"of\", 4000000, \"done\", end=\"\\r\")\n",
    "    y = 0\n",
    "    while(y <= 4000000 and not terminated):\n",
    "        runways = []\n",
    "        point = (x, y)\n",
    "        for sensor, info in zip(sensors, sensors.values()):\n",
    "            rest = info[\"distance\"] - n1(point, sensor)\n",
    "            if rest >= 0:\n",
    "                runways.append(rest)\n",
    "        if not runways:\n",
    "            print(point, \"is not reachable\")\n",
    "            terminated = True\n",
    "        else:\n",
    "            y += max(runways) if max(runways) > 0 else 1\n",
    "    x += 1\n",
    "print(\"tuning frequency:\", x * 4000000 + y)\n"
   ]
  },
  {
   "cell_type": "markdown",
   "metadata": {},
   "source": [
    "# Learnings"
   ]
  },
  {
   "attachments": {},
   "cell_type": "markdown",
   "metadata": {},
   "source": [
    "This one was difficult and took a lot of time. Not had time to reflect."
   ]
  },
  {
   "cell_type": "markdown",
   "metadata": {},
   "source": [
    "# Runtimes"
   ]
  },
  {
   "cell_type": "code",
   "execution_count": null,
   "metadata": {},
   "outputs": [],
   "source": [
    "%%timeit\n",
    "p1()"
   ]
  },
  {
   "cell_type": "code",
   "execution_count": null,
   "metadata": {},
   "outputs": [],
   "source": [
    "%%timeit\n",
    "p2()"
   ]
  }
 ],
 "metadata": {
  "kernelspec": {
   "display_name": "Python 3.9.12 ('base')",
   "language": "python",
   "name": "python3"
  },
  "language_info": {
   "codemirror_mode": {
    "name": "ipython",
    "version": 3
   },
   "file_extension": ".py",
   "mimetype": "text/x-python",
   "name": "python",
   "nbconvert_exporter": "python",
   "pygments_lexer": "ipython3",
   "version": "3.9.12"
  },
  "orig_nbformat": 4,
  "vscode": {
   "interpreter": {
    "hash": "fe9295735ade56b0b4f16f2b0ce9f31d7b41be582687b7a419bef511b5258ea8"
   }
  }
 },
 "nbformat": 4,
 "nbformat_minor": 2
}
