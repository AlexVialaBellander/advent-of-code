{
 "cells": [
  {
   "cell_type": "markdown",
   "metadata": {},
   "source": [
    "# 2022-12-01"
   ]
  },
  {
   "cell_type": "markdown",
   "metadata": {},
   "source": [
    "## Performance Summary\n",
    "Inital: ~655 µs ± 9.89 µs\n",
    "\n",
    "Best: ~226 µs ± 2.63 µs\n",
    "\n",
    "I think that all of my provided solutions are $O(n)$"
   ]
  },
  {
   "cell_type": "markdown",
   "metadata": {},
   "source": [
    "## Initial solution\n",
    "Woke up att 5:55am (~Midnight UTC-5) and did it on time. \n",
    "```\n",
    "-------Part 1--------   -------Part 2--------\n",
    "Day       Time  Rank  Score       Time  Rank  Score\n",
    "  1   00:08:55  4880      0   00:10:30  3906      0\n",
    "```"
   ]
  },
  {
   "cell_type": "markdown",
   "metadata": {},
   "source": [
    "### First Puzzle\n",
    "Although not optimal, divide the file by newline then rebuild the object with spaces and split by double space.\n",
    "Then, iterate through the list, map the values to ints and them sum for each elf."
   ]
  },
  {
   "cell_type": "code",
   "execution_count": 101,
   "metadata": {},
   "outputs": [],
   "source": [
    "# Run this if you are running a clean version of Python\n",
    "\n",
    "# %%capture\n",
    "# %pip install numpy"
   ]
  },
  {
   "cell_type": "code",
   "execution_count": 102,
   "metadata": {},
   "outputs": [
    {
     "data": {
      "text/plain": [
       "71506"
      ]
     },
     "execution_count": 102,
     "metadata": {},
     "output_type": "execute_result"
    }
   ],
   "source": [
    "import numpy as np\n",
    "\n",
    "with open(\"data/day-1.txt\") as f:\n",
    "    data = \" \".join(f.read().split(\"\\n\")).split(\"  \")\n",
    "sums = np.array(\n",
    "    [np.array(list(map(lambda x: int(x), x))).sum() for x in [x.split() for x in data]]\n",
    ")\n",
    "sums.max()"
   ]
  },
  {
   "cell_type": "markdown",
   "metadata": {},
   "source": [
    "### Second Puzzle\n",
    "Sort the list and then find the top three and sum them up."
   ]
  },
  {
   "cell_type": "code",
   "execution_count": 103,
   "metadata": {},
   "outputs": [
    {
     "data": {
      "text/plain": [
       "209603"
      ]
     },
     "execution_count": 103,
     "metadata": {},
     "output_type": "execute_result"
    }
   ],
   "source": [
    "sums.sort()\n",
    "sums[::-1][:3].sum()"
   ]
  },
  {
   "cell_type": "markdown",
   "metadata": {},
   "source": [
    "## Improved or alternate solution"
   ]
  },
  {
   "cell_type": "markdown",
   "metadata": {},
   "source": [
    "## First alternative\n",
    "This is the first alternative I came up with. It has some small improvements over the first solution, and runs 3x faster."
   ]
  },
  {
   "cell_type": "code",
   "execution_count": 147,
   "metadata": {},
   "outputs": [
    {
     "name": "stdout",
     "output_type": "stream",
     "text": [
      "The most an elf is carrying is 71506 calories\n",
      "The three elfs that carries the most has together 209603 calories\n"
     ]
    }
   ],
   "source": [
    "def first_alternative(data=None):\n",
    "    if data is None:\n",
    "        with open(\"data/day-1.txt\") as f:\n",
    "            data = f.read()\n",
    "    elf_calorie_sums = [\n",
    "        sum(list(map(int, elf_strings.split(\"\\n\"))))\n",
    "        for elf_strings in data.split(\"\\n\\n\")\n",
    "    ]\n",
    "    elf_calorie_sums.sort()\n",
    "    elf_calorie_sums.reverse()\n",
    "    return elf_calorie_sums[0], sum(elf_calorie_sums[:3])\n",
    "\n",
    "\n",
    "solution_1, solution_2 = first_alternative()\n",
    "print(f\"The most an elf is carrying is {solution_1} calories\")\n",
    "print(f\"The three elfs that carries the most has together {solution_2} calories\")"
   ]
  },
  {
   "cell_type": "markdown",
   "metadata": {},
   "source": [
    "## Second alternative\n",
    "While I thought this was going to be much faster, in fact, this is much much slower than any other alternative. I'm leaving it here for reference. It could be further optimised by reducing the number of times we perform the argmin operation but I am not sure if this is the true bottleneck."
   ]
  },
  {
   "cell_type": "code",
   "execution_count": 108,
   "metadata": {},
   "outputs": [
    {
     "name": "stdout",
     "output_type": "stream",
     "text": [
      "The most an elf is carrying is 71506 calories\n",
      "The three elfs that carries the most has together 209603 calories\n"
     ]
    }
   ],
   "source": [
    "def second_alternative(data=None):\n",
    "    if data is None:\n",
    "        with open(\"data/day-1.txt\") as f:\n",
    "            data = f.read()\n",
    "\n",
    "    # hyperparameter\n",
    "    top_n = 3\n",
    "\n",
    "    temp = []\n",
    "    elf_storage = []\n",
    "    partial_solution = [0] * top_n\n",
    "    chars = len(data)\n",
    "    i = 0\n",
    "    while i < chars:\n",
    "        if data[i].isalnum():\n",
    "            temp.append(data[i])\n",
    "            i += 1\n",
    "        else:\n",
    "            elf_storage.append(int(\"\".join(temp)))\n",
    "            temp = []\n",
    "            if data[i] == data[i + 1]:\n",
    "                elf_calories = sum(elf_storage)\n",
    "                smallest = min(\n",
    "                    range(len(partial_solution)), key=partial_solution.__getitem__\n",
    "                )\n",
    "                if elf_calories > partial_solution[smallest]:\n",
    "                    partial_solution.pop(smallest)\n",
    "                    partial_solution.append(elf_calories)\n",
    "                elf_storage = []\n",
    "                i += 2\n",
    "            else:\n",
    "                i += 1\n",
    "    solution_1 = max(partial_solution)\n",
    "    solution_2 = sum(partial_solution)\n",
    "    return solution_1, solution_2\n",
    "\n",
    "\n",
    "solution_1, solution_2 = second_alternative()\n",
    "print(f\"The most an elf is carrying is {solution_1} calories\")\n",
    "print(f\"The three elfs that carries the most has together {solution_2} calories\")"
   ]
  },
  {
   "cell_type": "markdown",
   "metadata": {},
   "source": [
    "# Other leanings\n",
    "It appears that depending on how we import numpy, it can be much slower. I'm not sure why this is the case, but I'm leaving it here for reference.\n",
    "\n",
    "- Importing numpy using the first cell produces much slower results than if I were to run it in another python environment where numpy is already installed.\n",
    "- Applying `int` directly in `map` is possible and there is no need to create a lambda function as in the initial solution.\n",
    "- While working on the second alternative solution, I learned that you cannod modify the iterator while iterating through it when using a for loop.\n",
    "- Obv, I wouldn't have needed to reverse the sort, although it felt more natural to me to have the largest number at the top of the list."
   ]
  },
  {
   "cell_type": "markdown",
   "metadata": {},
   "source": [
    "# Runtimes"
   ]
  },
  {
   "cell_type": "markdown",
   "metadata": {},
   "source": [
    "## Initial solution"
   ]
  },
  {
   "cell_type": "code",
   "execution_count": null,
   "metadata": {},
   "outputs": [],
   "source": [
    "def initialSolution(data=None):\n",
    "    if data is None:\n",
    "        with open(\"data/day-1.txt\") as f:\n",
    "            data = \" \".join(f.read().split(\"\\n\")).split(\"  \")\n",
    "    else:\n",
    "        data = \" \".join(data.split(\"\\n\")).split(\"  \")\n",
    "    np.array(\n",
    "        [\n",
    "            np.array(list(map(lambda x: int(x), x))).sum()\n",
    "            for x in [x.split() for x in data]\n",
    "        ]\n",
    "    )\n",
    "    sums.sort()\n",
    "    return sums.max(), sums[::-1][:3].sum()"
   ]
  },
  {
   "cell_type": "code",
   "execution_count": null,
   "metadata": {},
   "outputs": [
    {
     "name": "stdout",
     "output_type": "stream",
     "text": [
      "637 µs ± 1.3 µs per loop (mean ± std. dev. of 7 runs, 1,000 loops each)\n"
     ]
    }
   ],
   "source": [
    "%%timeit\n",
    "\n",
    "initialSolution()"
   ]
  },
  {
   "cell_type": "markdown",
   "metadata": {},
   "source": [
    "## First alternative"
   ]
  },
  {
   "cell_type": "code",
   "execution_count": null,
   "metadata": {},
   "outputs": [],
   "source": [
    "%%timeit\n",
    "\n",
    "with open(\"data/day-1.txt\") as f:\n",
    "    data = f.read()\n",
    "elf_calorie_sums = [\n",
    "    sum(list(map(int, elf_strings.split(\"\\n\")))) for elf_strings in data.split(\"\\n\\n\")\n",
    "]\n",
    "elf_calorie_sums.sort()\n",
    "elf_calorie_sums.reverse()\n",
    "solution_1 = elf_calorie_sums[1]\n",
    "solution_2 = sum(elf_calorie_sums[:3])"
   ]
  },
  {
   "cell_type": "markdown",
   "metadata": {},
   "source": [
    "## Second alternative"
   ]
  },
  {
   "cell_type": "code",
   "execution_count": 109,
   "metadata": {},
   "outputs": [
    {
     "name": "stdout",
     "output_type": "stream",
     "text": [
      "1.38 ms ± 2.82 µs per loop (mean ± std. dev. of 7 runs, 1,000 loops each)\n"
     ]
    }
   ],
   "source": [
    "%%timeit\n",
    "second_alternative()"
   ]
  },
  {
   "cell_type": "markdown",
   "metadata": {},
   "source": [
    "# Just other things"
   ]
  },
  {
   "cell_type": "code",
   "execution_count": null,
   "metadata": {},
   "outputs": [
    {
     "data": {
      "text/plain": [
       "(5923.5075, 5550.487886658591, 46277.40234375, 11665.198320545209)"
      ]
     },
     "metadata": {},
     "output_type": "display_data"
    }
   ],
   "source": [
    "# Just som statistics from the original data\n",
    "with open(\"data/day-1.txt\") as f:\n",
    "    data = f.read()\n",
    "elf_calorie_sums = [\n",
    "    list(map(int, elf_strings.split(\"\\n\"))) for elf_strings in data.split(\"\\n\\n\")\n",
    "]\n",
    "mean = np.array([item for sublist in elf_calorie_sums for item in sublist]).mean()\n",
    "std = np.array([item for sublist in elf_calorie_sums for item in sublist]).std()\n",
    "mean_sums = np.array(\n",
    "    [sum(list(map(int, elf_strings.split(\"\\n\")))) for elf_strings in data.split(\"\\n\\n\")]\n",
    ").mean()\n",
    "mean_sums_std = np.array(\n",
    "    [sum(list(map(int, elf_strings.split(\"\\n\")))) for elf_strings in data.split(\"\\n\\n\")]\n",
    ").std()\n",
    "\n",
    "mean, std, mean_sums, mean_sums_std"
   ]
  },
  {
   "cell_type": "code",
   "execution_count": null,
   "metadata": {},
   "outputs": [],
   "source": [
    "import numpy as np\n",
    "\n",
    "\n",
    "def generator(n=256, mean=5900, std=5550):\n",
    "    # generate random calorie counts\n",
    "    nums = []\n",
    "    while len(nums) < n:\n",
    "        nums.append(int(np.random.normal(mean, std)))\n",
    "        if nums[-1] < 0:\n",
    "            nums.pop()\n",
    "\n",
    "    # split nums into random groups of 1 to 16\n",
    "    groups = [\n",
    "        nums[i : i + np.random.randint(1, 17)]\n",
    "        for i in range(0, len(nums), np.random.randint(1, 14))\n",
    "    ]\n",
    "\n",
    "    # create a string of the groups where each number in the group is separated by newline and each group is separated by two newlines\n",
    "    data = \"\\n\\n\".join([\"\\n\".join([str(x) for x in group]) for group in groups])\n",
    "    return data"
   ]
  }
 ],
 "metadata": {
  "kernelspec": {
   "display_name": "Python 3.10.8 ('torch-py310')",
   "language": "python",
   "name": "python3"
  },
  "language_info": {
   "codemirror_mode": {
    "name": "ipython",
    "version": 3
   },
   "file_extension": ".py",
   "mimetype": "text/x-python",
   "name": "python",
   "nbconvert_exporter": "python",
   "pygments_lexer": "ipython3",
   "version": "3.10.8"
  },
  "orig_nbformat": 4,
  "vscode": {
   "interpreter": {
    "hash": "7bdfe052f070dae1410aa449a49e1dd2cde4109d5fccef4906650e6f45d66eb3"
   }
  }
 },
 "nbformat": 4,
 "nbformat_minor": 2
}
