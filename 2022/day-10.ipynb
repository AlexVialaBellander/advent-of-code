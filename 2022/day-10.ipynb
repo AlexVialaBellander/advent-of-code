{
 "cells": [
  {
   "cell_type": "markdown",
   "metadata": {},
   "source": [
    "# 2022-12-10"
   ]
  },
  {
   "cell_type": "markdown",
   "metadata": {},
   "source": [
    "## Performance Summary\n",
    "Inital p1: 81.2 µs ± 422 ns\n",
    "\n",
    "Initial p2: 109 µs ± 699 ns"
   ]
  },
  {
   "cell_type": "markdown",
   "metadata": {},
   "source": [
    "## Initial solution\n",
    "Woke up att 5:50am (~Midnight UTC-5) and did it on time. \n",
    "```\n",
    "      --------Part 1--------   --------Part 2--------\n",
    "Day       Time   Rank  Score       Time   Rank  Score\n",
    " 10   00:35:19   7214      0   01:13:29   7659      0\n",
    "```"
   ]
  },
  {
   "cell_type": "markdown",
   "metadata": {},
   "source": [
    "### Puzzle 1\n",
    "\n",
    "We create the registry using a dictionary where we keep track of the `counter`, `X`, and the `singal sum`. We iterate through the instructions and call the function that corresponds to the instruction. Each function calls the `cycle` function that updates the counter and runs any subroutines that executes outside the CPU clock cycles."
   ]
  },
  {
   "cell_type": "code",
   "execution_count": 113,
   "metadata": {},
   "outputs": [
    {
     "data": {
      "text/plain": [
       "{'C': 240, 'X': 37, 'S': 17940}"
      ]
     },
     "execution_count": 113,
     "metadata": {},
     "output_type": "execute_result"
    }
   ],
   "source": [
    "program = [x.split(\" \") for x in open(\"data/day-10.txt\").read().splitlines()]\n",
    "\n",
    "def p1():\n",
    "    regs = dict(C=0, X=1, S=0)\n",
    "\n",
    "    def subroutine():\n",
    "        if (regs[\"C\"]-20) % 40 == 0:\n",
    "            regs[\"S\"] += regs[\"C\"] * regs[\"X\"]\n",
    "    def cycle(val): \n",
    "        for _ in range(int(val)): \n",
    "            regs[\"C\"] += 1\n",
    "            subroutine()\n",
    "\n",
    "    def addx(val): cycle(2); regs[\"X\"] += int(val)\n",
    "    def noop(): cycle(1)\n",
    "\n",
    "    for instruction, *arg in program:\n",
    "        locals()[instruction](*arg)    \n",
    "        \n",
    "    return regs\n",
    "p1()\n"
   ]
  },
  {
   "cell_type": "markdown",
   "metadata": {},
   "source": [
    "### Puzzle 2\n",
    "Here we have simply changed the subroutine. Instead of calculating some sum, write to a list (display) depending on how `X` is placed."
   ]
  },
  {
   "cell_type": "code",
   "execution_count": 121,
   "metadata": {},
   "outputs": [
    {
     "name": "stdout",
     "output_type": "stream",
     "text": [
      "####  ##  ###   ##    ## ####   ## #### \n",
      "   # #  # #  # #  #    # #       #    # \n",
      "  #  #    ###  #  #    # ###     #   #  \n",
      " #   #    #  # ####    # #       #  #   \n",
      "#    #  # #  # #  # #  # #    #  # #    \n",
      "####  ##  ###  #  #  ##  #     ##  #### \n"
     ]
    }
   ],
   "source": [
    "program = [x.split(\" \") for x in open(\"data/day-10.txt\").read().splitlines()]\n",
    "\n",
    "def p2(runtime_eval=False):\n",
    "\n",
    "    displ = [\".\"]*40*6\n",
    "    regs = dict(C=0, X=1, S=0)\n",
    "\n",
    "    def subroutine():\n",
    "        h_disp_p = (regs[\"C\"] - 1) % 40\n",
    "        displ[regs[\"C\"] - 1] = \"#\" if regs[\"X\"] - 1 <= h_disp_p <= regs[\"X\"] + 1 else \" \"\n",
    "        \n",
    "    def cycle(val): \n",
    "        for _ in range(int(val)): \n",
    "            regs[\"C\"] += 1\n",
    "            subroutine()\n",
    "\n",
    "    def addx(val): cycle(2); regs[\"X\"] += int(val)\n",
    "    def noop(): cycle(1)\n",
    "\n",
    "    for instruction, *arg in program:\n",
    "        locals()[instruction](*arg)\n",
    "\n",
    "    if not runtime_eval:\n",
    "        for i in range(6):\n",
    "            print(\"\".join(displ[i*40:(i+1)*40]))\n",
    "\n",
    "p2()"
   ]
  },
  {
   "cell_type": "markdown",
   "metadata": {},
   "source": [
    "# Learnings"
   ]
  },
  {
   "cell_type": "markdown",
   "metadata": {},
   "source": [
    "Today's was actually very easy. It is unfortunate that it took so long to solve. Again, it seems I never learn.\n",
    "\n",
    "I got stuck on the 1st Puzzle because I had assumed that `X` begins at 0. So I spent quite some time debugging that before realising that the assignment clearly states that `X` starts at 1.\n",
    "\n",
    "Equally stupid, I got stuck on the 2nd puzzle because I only printed the 4 forst rows of the display and thought something was wrong. It was only when I ran the example and compared that I noticed that there where two rows missing. \n",
    "\n",
    "- READ THE ASSIGNMENT CAREFULLY WHEN YOU GET THE WRONG ANSWER"
   ]
  },
  {
   "cell_type": "markdown",
   "metadata": {},
   "source": [
    "# Runtimes"
   ]
  },
  {
   "cell_type": "code",
   "execution_count": 117,
   "metadata": {},
   "outputs": [
    {
     "name": "stdout",
     "output_type": "stream",
     "text": [
      "81.2 µs ± 422 ns per loop (mean ± std. dev. of 7 runs, 10,000 loops each)\n"
     ]
    }
   ],
   "source": [
    "%%timeit\n",
    "p1()"
   ]
  },
  {
   "cell_type": "code",
   "execution_count": 122,
   "metadata": {},
   "outputs": [
    {
     "name": "stdout",
     "output_type": "stream",
     "text": [
      "109 µs ± 699 ns per loop (mean ± std. dev. of 7 runs, 10,000 loops each)\n"
     ]
    }
   ],
   "source": [
    "%%timeit\n",
    "p2(runtime_eval=True)"
   ]
  }
 ],
 "metadata": {
  "kernelspec": {
   "display_name": "Python 3.10.6 64-bit",
   "language": "python",
   "name": "python3"
  },
  "language_info": {
   "codemirror_mode": {
    "name": "ipython",
    "version": 3
   },
   "file_extension": ".py",
   "mimetype": "text/x-python",
   "name": "python",
   "nbconvert_exporter": "python",
   "pygments_lexer": "ipython3",
   "version": "3.10.6"
  },
  "orig_nbformat": 4,
  "vscode": {
   "interpreter": {
    "hash": "b0fa6594d8f4cbf19f97940f81e996739fb7646882a419484c72d19e05852a7e"
   }
  }
 },
 "nbformat": 4,
 "nbformat_minor": 2
}
