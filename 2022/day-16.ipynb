{
 "cells": [
  {
   "attachments": {},
   "cell_type": "markdown",
   "metadata": {},
   "source": [
    "# 2022-12-16"
   ]
  },
  {
   "cell_type": "markdown",
   "metadata": {},
   "source": [
    "## Performance Summary\n",
    "Inital p1: \n",
    "\n",
    "Initial p2: "
   ]
  },
  {
   "attachments": {},
   "cell_type": "markdown",
   "metadata": {},
   "source": [
    "## Initial solution\n",
    "Did it in the evening.\n",
    "```\n",
    "      --------Part 1--------   --------Part 2--------\n",
    "Day       Time   Rank  Score       Time   Rank  Score\n",
    "\n",
    "```"
   ]
  },
  {
   "cell_type": "markdown",
   "metadata": {},
   "source": [
    "### Puzzle 1\n",
    "\n",
    "Lorem ipsum dolor sit amet, consectetur adipiscing elit. Ut non metus eget elit consequat pharetra. Curabitur elementum diam eget enim viverra, eu vestibulum turpis vulputate. Curabitur non metus purus. Fusce suscipit quam sed sapien placerat viverra. In sed porttitor eros. Phasellus sed pulvinar urna. Ut quis finibus quam. Curabitur hendrerit accumsan varius. Vestibulum at metus et nulla tincidunt aliquet. Etiam tincidunt felis a purus dictum bibendum. Donec enim eros, placerat sit amet tellus eget, porta tempor massa."
   ]
  },
  {
   "cell_type": "code",
   "execution_count": 40,
   "metadata": {},
   "outputs": [
    {
     "data": {
      "text/plain": [
       "{'BB': {'CC': 26},\n",
       " 'CC': {'DD': 40, 'BB': 26},\n",
       " 'DD': {'CC': 40, 'EE': 60},\n",
       " 'EE': {'DD': 60},\n",
       " 'HH': {},\n",
       " 'JJ': {}}"
      ]
     },
     "execution_count": 40,
     "metadata": {},
     "output_type": "execute_result"
    }
   ],
   "source": [
    "data = open(\"day-16-test.txt\").read().splitlines()\n",
    "\n",
    "class Valve:\n",
    "    def __init__(self, data_row: str) -> None:\n",
    "        chunks = data_row.split(\" \")\n",
    "        self.name = chunks[1]\n",
    "        self.rate = int(chunks[4].split(\"=\")[-1][:-1])\n",
    "        self.neighbors = [x if x[-1] != \",\" else x[:-1] for x in chunks[9:]]\n",
    "        self.equation = lambda x: self.rate * x\n",
    "\n",
    "valves = {}\n",
    "for row in data:\n",
    "    v = Valve(row)\n",
    "    valves[v.name] = v\n"
   ]
  },
  {
   "cell_type": "markdown",
   "metadata": {},
   "source": [
    "### Puzzle 2\n",
    "Lorem ipsum dolor sit amet, consectetur adipiscing elit. Ut non metus eget elit consequat pharetra. Curabitur elementum diam eget enim viverra, eu vestibulum turpis vulputate. Curabitur non metus purus. Fusce suscipit quam sed sapien placerat viverra. In sed porttitor eros. Phasellus sed pulvinar urna. Ut quis finibus quam. Curabitur hendrerit accumsan varius. Vestibulum at metus et nulla tincidunt aliquet. Etiam tincidunt felis a purus dictum bibendum. Donec enim eros, placerat sit amet tellus eget, porta tempor massa."
   ]
  },
  {
   "cell_type": "code",
   "execution_count": null,
   "metadata": {},
   "outputs": [],
   "source": []
  },
  {
   "cell_type": "markdown",
   "metadata": {},
   "source": [
    "# Learnings"
   ]
  },
  {
   "cell_type": "markdown",
   "metadata": {},
   "source": [
    "Lorem ipsum dolor sit amet, consectetur adipiscing elit. Ut non metus eget elit consequat pharetra. Curabitur elementum diam eget enim viverra, eu vestibulum turpis vulputate. Curabitur non metus purus. Fusce suscipit quam sed sapien placerat viverra.\n",
    "\n",
    "- In sed porttitor eros. Phasellus sed pulvinar urna. \n",
    "- Etiam tincidunt felis a purus dictum bibendum."
   ]
  },
  {
   "cell_type": "markdown",
   "metadata": {},
   "source": [
    "# Runtimes"
   ]
  },
  {
   "cell_type": "code",
   "execution_count": null,
   "metadata": {},
   "outputs": [],
   "source": [
    "%%timeit\n",
    "p1()"
   ]
  },
  {
   "cell_type": "code",
   "execution_count": null,
   "metadata": {},
   "outputs": [],
   "source": [
    "%%timeit\n",
    "p2()"
   ]
  }
 ],
 "metadata": {
  "kernelspec": {
   "display_name": "Python 3.9.12 ('base')",
   "language": "python",
   "name": "python3"
  },
  "language_info": {
   "codemirror_mode": {
    "name": "ipython",
    "version": 3
   },
   "file_extension": ".py",
   "mimetype": "text/x-python",
   "name": "python",
   "nbconvert_exporter": "python",
   "pygments_lexer": "ipython3",
   "version": "3.9.12"
  },
  "orig_nbformat": 4,
  "vscode": {
   "interpreter": {
    "hash": "fe9295735ade56b0b4f16f2b0ce9f31d7b41be582687b7a419bef511b5258ea8"
   }
  }
 },
 "nbformat": 4,
 "nbformat_minor": 2
}
