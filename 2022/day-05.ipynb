{
 "cells": [
  {
   "cell_type": "markdown",
   "metadata": {},
   "source": [
    "# 2022-12-05"
   ]
  },
  {
   "cell_type": "markdown",
   "metadata": {},
   "source": [
    "## Performance Summary\n",
    "Inital p1: 2.87 ms ± 31.1 µs\n",
    "\n",
    "Inital p2: 2.84 ms ± 32 µs "
   ]
  },
  {
   "cell_type": "markdown",
   "metadata": {},
   "source": [
    "## Initial solution\n",
    "Woke up att 5:55am (~Midnight UTC-5) and did it on time. \n",
    "```\n",
    "      --------Part 1--------   --------Part 2--------\n",
    "Day       Time   Rank  Score       Time   Rank  Score\n",
    "  5   00:52:30  10203      0   00:54:06   9014      0\n",
    "```"
   ]
  },
  {
   "cell_type": "markdown",
   "metadata": {},
   "source": [
    "### First Puzzle"
   ]
  },
  {
   "cell_type": "code",
   "execution_count": 286,
   "metadata": {},
   "outputs": [
    {
     "data": {
      "text/plain": [
       "'HBTMTBSDC'"
      ]
     },
     "execution_count": 286,
     "metadata": {},
     "output_type": "execute_result"
    }
   ],
   "source": [
    "init, moves = list(\n",
    "    map(lambda x: x.splitlines(), open(\"data/day-5.txt\").read().split(\"\\n\\n\"))\n",
    ")\n",
    "init = [[x[i] for x in init if x[i] != \" \"] for i in range(1, len(init[0]), 4)]\n",
    "state = {int(x[-1]): x[:-1] for x in init}\n",
    "\n",
    "fetch = lambda s, fc, mc: [s[fc].pop(0)] + fetch(s, fc, mc - 1) if mc > 0 else []\n",
    "\n",
    "for task in moves:\n",
    "    chunks = task.split(\" \")\n",
    "    move_count, from_col, to_col = int(chunks[1]), int(chunks[3]), int(chunks[5])\n",
    "    cargo = fetch(state, from_col, move_count)\n",
    "    state[to_col] = cargo[::-1] + state[to_col]\n",
    "\n",
    "\"\".join([x[0] for x in state.values()])"
   ]
  },
  {
   "cell_type": "markdown",
   "metadata": {},
   "source": [
    "### Second Puzzle"
   ]
  },
  {
   "cell_type": "code",
   "execution_count": 287,
   "metadata": {},
   "outputs": [
    {
     "data": {
      "text/plain": [
       "'PQTJRSHWS'"
      ]
     },
     "execution_count": 287,
     "metadata": {},
     "output_type": "execute_result"
    }
   ],
   "source": [
    "init, moves = list(\n",
    "    map(lambda x: x.splitlines(), open(\"data/day-5.txt\").read().split(\"\\n\\n\"))\n",
    ")\n",
    "init = [[x[i] for x in init if x[i] != \" \"] for i in range(1, len(init[0]), 4)]\n",
    "state = {int(x[-1]): x[:-1] for x in init}\n",
    "\n",
    "fetch = lambda s, fc, mc: [s[fc].pop(0)] + fetch(s, fc, mc - 1) if mc > 0 else []\n",
    "\n",
    "for task in moves:\n",
    "    chunks = task.split(\" \")\n",
    "    move_count, from_col, to_col = int(chunks[1]), int(chunks[3]), int(chunks[5])\n",
    "    cargo = fetch(state, from_col, move_count)\n",
    "    state[to_col] = cargo + state[to_col]\n",
    "\n",
    "\"\".join([x[0] for x in state.values()])"
   ]
  },
  {
   "cell_type": "markdown",
   "metadata": {},
   "source": [
    "## Cleaned up versions"
   ]
  },
  {
   "cell_type": "code",
   "execution_count": 288,
   "metadata": {},
   "outputs": [
    {
     "name": "stdout",
     "output_type": "stream",
     "text": [
      "HBTMTBSDC\n",
      "PQTJRSHWS\n"
     ]
    }
   ],
   "source": [
    "init, moves = list(\n",
    "    map(lambda x: x.splitlines(), open(\"data/day-5.txt\").read().split(\"\\n\\n\"))\n",
    ")\n",
    "init = [[x[i] for x in init if x[i] != \" \"] for i in range(1, len(init[0]), 4)]\n",
    "loadState = lambda: {int(x[-1]): x[:-1] for x in init}\n",
    "state = loadState()\n",
    "\n",
    "fetch = lambda s, fc, mc: [s[fc].pop(0)] + fetch(s, fc, mc - 1) if mc > 0 else []\n",
    "\n",
    "\n",
    "def move_cargo(machine):\n",
    "    for task in moves:\n",
    "        chunks = task.split(\" \")\n",
    "        move_count, from_col, to_col = map(int, [chunks[1], chunks[3], chunks[5]])\n",
    "        cargo = fetch(state, from_col, move_count)\n",
    "        state[to_col] = (cargo[::-1] if machine[-1] == \"0\" else cargo) + state[to_col]\n",
    "    return \"\".join([x[0] for x in state.values()])\n",
    "\n",
    "\n",
    "print(move_cargo(\"CrateMover 9000\"))\n",
    "state = loadState()\n",
    "print(move_cargo(\"CrateMover 9001\"))"
   ]
  },
  {
   "cell_type": "markdown",
   "metadata": {},
   "source": [
    "## Documented version"
   ]
  },
  {
   "cell_type": "code",
   "execution_count": 289,
   "metadata": {},
   "outputs": [
    {
     "data": {
      "text/plain": [
       "{1: ['G', 'P', 'N', 'R'],\n",
       " 2: ['H', 'V', 'S', 'C', 'L', 'B', 'J', 'T'],\n",
       " 3: ['L', 'N', 'M', 'B', 'D', 'T'],\n",
       " 4: ['B', 'S', 'P', 'V', 'R'],\n",
       " 5: ['H', 'V', 'M', 'W', 'S', 'Q', 'C', 'G'],\n",
       " 6: ['J', 'B', 'D', 'C', 'S', 'Q', 'W'],\n",
       " 7: ['L', 'Q', 'F'],\n",
       " 8: ['V', 'F', 'L', 'D', 'T', 'H', 'M', 'W'],\n",
       " 9: ['F', 'J', 'M', 'V', 'B', 'P', 'L']}"
      ]
     },
     "execution_count": 289,
     "metadata": {},
     "output_type": "execute_result"
    }
   ],
   "source": [
    "# Load data\n",
    "init, moves = list(\n",
    "    map(lambda x: x.splitlines(), open(\"data/day-5.txt\").read().split(\"\\n\\n\"))\n",
    ")\n",
    "init = [[x[i] for x in init if x[i] != \" \"] for i in range(1, len(init[0]), 4)]\n",
    "loadState = lambda: {int(x[-1]): x[:-1] for x in init}\n",
    "state = loadState()\n",
    "state"
   ]
  },
  {
   "cell_type": "code",
   "execution_count": 290,
   "metadata": {},
   "outputs": [
    {
     "data": {
      "text/plain": [
       "['move 3 from 3 to 7',\n",
       " 'move 4 from 1 to 9',\n",
       " 'move 5 from 6 to 3',\n",
       " 'move 6 from 9 to 8',\n",
       " 'move 2 from 9 to 5']"
      ]
     },
     "execution_count": 290,
     "metadata": {},
     "output_type": "execute_result"
    }
   ],
   "source": [
    "moves[:5]"
   ]
  },
  {
   "cell_type": "code",
   "execution_count": 291,
   "metadata": {},
   "outputs": [
    {
     "name": "stdout",
     "output_type": "stream",
     "text": [
      "HBTMTBSDC\n",
      "PQTJRSHWS\n"
     ]
    }
   ],
   "source": [
    "# define a functions that fetches cargo from a column, stacks it as if it were the CreateMover 9001\n",
    "fetch = lambda s, fc, mc: [s[fc].pop(0)] + fetch(s, fc, mc - 1) if mc > 0 else []\n",
    "\n",
    "\n",
    "# Iterate through the moves and execute them, we reverse the list of cargo if the machine is 9000\n",
    "def move_cargo(machine):\n",
    "    for task in moves:\n",
    "        chunks = task.split(\" \")\n",
    "        move_count, from_col, to_col = map(int, [chunks[1], chunks[3], chunks[5]])\n",
    "        cargo = fetch(state, from_col, move_count)\n",
    "        state[to_col] = (cargo[::-1] if machine[-1] == \"0\" else cargo) + state[to_col]\n",
    "    return \"\".join([x[0] for x in state.values()])\n",
    "\n",
    "\n",
    "print(move_cargo(\"CrateMover 9000\"))\n",
    "state = loadState()\n",
    "print(move_cargo(\"CrateMover 9001\"))"
   ]
  },
  {
   "cell_type": "markdown",
   "metadata": {},
   "source": [
    "# Learnings\n",
    "- Learned that one can reverse a list using `[::-1]`\n",
    "- I remind my self yet again to read the problem statement carefully. I was trying to solve the p2 on p1 because I didnt read carefully enough.\n",
    "- Instead of reversing or not reversing, one could swap places I think in the `fetch` function on how the cargo is stacked during the recursion call."
   ]
  },
  {
   "cell_type": "markdown",
   "metadata": {},
   "source": [
    "# Runtimes"
   ]
  },
  {
   "cell_type": "code",
   "execution_count": 296,
   "metadata": {},
   "outputs": [
    {
     "name": "stdout",
     "output_type": "stream",
     "text": [
      "2.87 ms ± 31.1 µs per loop (mean ± std. dev. of 7 runs, 100 loops each)\n"
     ]
    }
   ],
   "source": [
    "%%timeit\n",
    "init, moves = list(\n",
    "    map(lambda x: x.splitlines(), open(\"data/day-5.txt\").read().split(\"\\n\\n\"))\n",
    ")\n",
    "init = [[x[i] for x in init if x[i] != \" \"] for i in range(1, len(init[0]), 4)]\n",
    "state = {int(x[-1]): x[:-1] for x in init}\n",
    "\n",
    "fetch = lambda s, fc, mc: [s[fc].pop(0)] + fetch(s, fc, mc - 1) if mc > 0 else []\n",
    "\n",
    "\n",
    "def move_cargo(machine):\n",
    "    for task in moves:\n",
    "        chunks = task.split(\" \")\n",
    "        move_count, from_col, to_col = map(int, [chunks[1], chunks[3], chunks[5]])\n",
    "        cargo = fetch(state, from_col, move_count)\n",
    "        state[to_col] = (cargo[::-1] if machine[-1] == \"0\" else cargo) + state[to_col]\n",
    "    return \"\".join([x[0] for x in state.values()])\n",
    "\n",
    "\n",
    "move_cargo(\"CrateMover 9000\")"
   ]
  },
  {
   "cell_type": "code",
   "execution_count": 297,
   "metadata": {},
   "outputs": [
    {
     "name": "stdout",
     "output_type": "stream",
     "text": [
      "2.84 ms ± 32 µs per loop (mean ± std. dev. of 7 runs, 100 loops each)\n"
     ]
    }
   ],
   "source": [
    "%%timeit\n",
    "init, moves = list(\n",
    "    map(lambda x: x.splitlines(), open(\"data/day-5.txt\").read().split(\"\\n\\n\"))\n",
    ")\n",
    "init = [[x[i] for x in init if x[i] != \" \"] for i in range(1, len(init[0]), 4)]\n",
    "state = {int(x[-1]): x[:-1] for x in init}\n",
    "\n",
    "fetch = lambda s, fc, mc: [s[fc].pop(0)] + fetch(s, fc, mc - 1) if mc > 0 else []\n",
    "\n",
    "\n",
    "def move_cargo(machine):\n",
    "    for task in moves:\n",
    "        chunks = task.split(\" \")\n",
    "        move_count, from_col, to_col = map(int, [chunks[1], chunks[3], chunks[5]])\n",
    "        cargo = fetch(state, from_col, move_count)\n",
    "        state[to_col] = (cargo[::-1] if machine[-1] == \"0\" else cargo) + state[to_col]\n",
    "    return \"\".join([x[0] for x in state.values()])\n",
    "\n",
    "\n",
    "move_cargo(\"CrateMover 9001\")"
   ]
  }
 ],
 "metadata": {
  "kernelspec": {
   "display_name": "Python 3.10.6 64-bit",
   "language": "python",
   "name": "python3"
  },
  "language_info": {
   "codemirror_mode": {
    "name": "ipython",
    "version": 3
   },
   "file_extension": ".py",
   "mimetype": "text/x-python",
   "name": "python",
   "nbconvert_exporter": "python",
   "pygments_lexer": "ipython3",
   "version": "3.10.6"
  },
  "orig_nbformat": 4,
  "vscode": {
   "interpreter": {
    "hash": "b0fa6594d8f4cbf19f97940f81e996739fb7646882a419484c72d19e05852a7e"
   }
  }
 },
 "nbformat": 4,
 "nbformat_minor": 2
}
