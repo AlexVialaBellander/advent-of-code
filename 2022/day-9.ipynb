{
 "cells": [
  {
   "cell_type": "markdown",
   "metadata": {},
   "source": [
    "# 2022-12-09"
   ]
  },
  {
   "cell_type": "markdown",
   "metadata": {},
   "source": [
    "## Performance Summary\n",
    "Inital p1: 45.2 ms ± 373 µs \n",
    "\n",
    "Initial p2: 196 ms ± 244 µs "
   ]
  },
  {
   "cell_type": "markdown",
   "metadata": {},
   "source": [
    "## Initial solution\n",
    "Woke up att 5:50am (~Midnight UTC-5) and did it on time. \n",
    "```\n",
    "      --------Part 1--------   --------Part 2--------\n",
    "Day       Time   Rank  Score       Time   Rank  Score\n",
    "  9   00:46:06   6674      0   03:04:20  11546      0\n",
    "\n",
    "```"
   ]
  },
  {
   "cell_type": "markdown",
   "metadata": {},
   "source": [
    "### Puzzle 1\n",
    "\n",
    "Maintain a dictionary with the positions of the head and the tail and the previous position of the head. Whenever the head is outside of a 3x3 grid centered around the tail, we move the tail to the previous position of the head."
   ]
  },
  {
   "cell_type": "code",
   "execution_count": 8,
   "metadata": {},
   "outputs": [
    {
     "data": {
      "text/plain": [
       "6236"
      ]
     },
     "execution_count": 8,
     "metadata": {},
     "output_type": "execute_result"
    }
   ],
   "source": [
    "from itertools import product\n",
    "\n",
    "actions = [x.split(\" \") for x in open(\"data/day-9.txt\").read().splitlines()]\n",
    "pos = dict(head=dict(x=0,y=0), tail=dict(x=0,y=0), head_prev=dict(x=0,y=0))\n",
    "visited = set(); visited.add((0,0))\n",
    "\n",
    "vicinity = lambda a, b: any([tuple(pos[\"head\"].values()) == (x+a, b+y) for x,y in product(range(-1, 2), range(-1, 2))])\n",
    "\n",
    "for dir, steps in actions:\n",
    "    for _ in range(int(steps)):\n",
    "        pos[\"head_prev\"] = pos[\"head\"].copy()\n",
    "        match dir:\n",
    "            case \"L\":\n",
    "                pos[\"head\"][\"x\"]-=1\n",
    "            case \"U\":\n",
    "                pos[\"head\"][\"y\"]+=1\n",
    "            case \"R\":\n",
    "                pos[\"head\"][\"x\"]+=1\n",
    "            case \"D\":\n",
    "                pos[\"head\"][\"y\"]-=1\n",
    "        if not vicinity(*pos[\"tail\"].values()):\n",
    "            pos[\"tail\"] = pos[\"head_prev\"].copy()\n",
    "            visited.add(tuple(pos[\"tail\"].values()))\n",
    "len(visited)"
   ]
  },
  {
   "cell_type": "markdown",
   "metadata": {},
   "source": [
    "### Puzzle 2\n",
    "We have a dictionary which contains the positions of each knot (including the head). We first perform the action provided by the input. Then we iterativly check for each knot, if the parent knot is in the vicinity of it (within a 3x3 grid). If not, we use their relative position to determine whether we should move diagonally or straight. We update the knots position and then move on to the child knot. If ever, a knot doesn't need to move, then we break since no child will have to move either."
   ]
  },
  {
   "cell_type": "code",
   "execution_count": 9,
   "metadata": {},
   "outputs": [
    {
     "data": {
      "text/plain": [
       "2242"
      ]
     },
     "execution_count": 9,
     "metadata": {},
     "output_type": "execute_result"
    }
   ],
   "source": [
    "from itertools import product\n",
    "from numpy import sign\n",
    "\n",
    "actions = [x.split(\" \") for x in open(\"data/day-9.txt\").read().splitlines()]\n",
    "\n",
    "def solver(n=10):\n",
    "    pos = list(map(lambda x: x.copy(), [dict(x=0,y=0)]*(n+1)))\n",
    "    tail_visited = set(); tail_visited.add(tuple(pos[len(pos)-1].values()))\n",
    "    vicinity = lambda a, b, idx: any([tuple(pos[idx].values()) == (x+a, b+y) for x,y in product(range(-1, 2), range(-1, 2))])\n",
    "\n",
    "    for dir, steps in actions:\n",
    "        for _ in range(int(steps)):\n",
    "            match dir:\n",
    "                case \"L\":\n",
    "                    pos[0][\"x\"]-=1\n",
    "                case \"U\":\n",
    "                    pos[0][\"y\"]+=1\n",
    "                case \"R\":\n",
    "                    pos[0][\"x\"]+=1\n",
    "                case \"D\":\n",
    "                    pos[0][\"y\"]-=1\n",
    "            for knot in range(1, len(pos)):\n",
    "                if not vicinity(*pos[knot].values(), knot-1):\n",
    "                    relative_parent = [c2-c1 for c1,c2 in zip(pos[knot].values(), pos[knot - 1].values())]\n",
    "                    pos[knot][\"x\"] += 1*sign(relative_parent[0])\n",
    "                    pos[knot][\"y\"] += 1*sign(relative_parent[1])\n",
    "                else:\n",
    "                    break\n",
    "            tail_visited.add(tuple(pos[len(pos)-1].values()))\n",
    "    return len(tail_visited)\n",
    "solver(10)"
   ]
  },
  {
   "cell_type": "markdown",
   "metadata": {},
   "source": [
    "# Learnings"
   ]
  },
  {
   "cell_type": "markdown",
   "metadata": {},
   "source": [
    "Today also took quite some time, however, I think that today had the largest time gap between puzzle 1 and puzzle 2. My initial solution for p1 did not work with extention on p2. This is because I assumed that when a knot was not in the vicnity of its parent, it would move to where the parent was. This works in the single not case but not with multiple knots. It took quite some time to figure out that the proper motion of the knots were to move diagonally if the parent was not in the same row or column. I read the example for almost an hour and could not understand why certain moves were done, they felt inconsistent with the explained rules. Anyhow, I think I have a better understanding of the problem now and I think I can solve it in a more elegant way.\n",
    "\n",
    "- Again, read the problem description carefully.\n",
    "- Not sure if using dicts here was the right choice. "
   ]
  },
  {
   "cell_type": "markdown",
   "metadata": {},
   "source": [
    "# Runtimes"
   ]
  },
  {
   "cell_type": "code",
   "execution_count": 6,
   "metadata": {},
   "outputs": [
    {
     "name": "stdout",
     "output_type": "stream",
     "text": [
      "45.2 ms ± 373 µs per loop (mean ± std. dev. of 7 runs, 10 loops each)\n"
     ]
    }
   ],
   "source": [
    "%%timeit\n",
    "solver(n=1)"
   ]
  },
  {
   "cell_type": "code",
   "execution_count": 7,
   "metadata": {},
   "outputs": [
    {
     "name": "stdout",
     "output_type": "stream",
     "text": [
      "196 ms ± 244 µs per loop (mean ± std. dev. of 7 runs, 10 loops each)\n"
     ]
    }
   ],
   "source": [
    "%%timeit\n",
    "solver(n=10)"
   ]
  }
 ],
 "metadata": {
  "kernelspec": {
   "display_name": "Python 3.10.6 64-bit",
   "language": "python",
   "name": "python3"
  },
  "language_info": {
   "codemirror_mode": {
    "name": "ipython",
    "version": 3
   },
   "file_extension": ".py",
   "mimetype": "text/x-python",
   "name": "python",
   "nbconvert_exporter": "python",
   "pygments_lexer": "ipython3",
   "version": "3.10.6"
  },
  "orig_nbformat": 4,
  "vscode": {
   "interpreter": {
    "hash": "b0fa6594d8f4cbf19f97940f81e996739fb7646882a419484c72d19e05852a7e"
   }
  }
 },
 "nbformat": 4,
 "nbformat_minor": 2
}
