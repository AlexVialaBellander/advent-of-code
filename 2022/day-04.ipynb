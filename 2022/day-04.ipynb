{
 "cells": [
  {
   "cell_type": "markdown",
   "metadata": {},
   "source": [
    "# 2022-12-01"
   ]
  },
  {
   "cell_type": "markdown",
   "metadata": {},
   "source": [
    "## Performance Summary\n",
    "Inital p1: ~1.17 ms ± 13.2 µs \n",
    "\n",
    "Inital p2: 2.34 ms ± 23.6 µs\n"
   ]
  },
  {
   "cell_type": "markdown",
   "metadata": {},
   "source": [
    "## Initial solution\n",
    "Woke up att 5:55am (~Midnight UTC-5) and did it on time. \n",
    "```\n",
    "      --------Part 1--------   --------Part 2--------\n",
    "Day       Time   Rank  Score       Time   Rank  Score\n",
    "  4   00:31:37  11904      0   00:57:51  14276      0\n",
    "```"
   ]
  },
  {
   "cell_type": "markdown",
   "metadata": {},
   "source": [
    "### First Puzzle"
   ]
  },
  {
   "cell_type": "code",
   "execution_count": 120,
   "metadata": {},
   "outputs": [
    {
     "data": {
      "text/plain": [
       "464"
      ]
     },
     "execution_count": 120,
     "metadata": {},
     "output_type": "execute_result"
    }
   ],
   "source": [
    "contains = (\n",
    "    lambda x, y: x.start <= y.start\n",
    "    and x.stop >= y.stop\n",
    "    or x.start >= y.start\n",
    "    and x.stop <= y.stop\n",
    ")\n",
    "add = lambda x: [x[0], x[1] + 1]\n",
    "make_range = lambda x: range(*add(list(map(int, (x.split(\"-\"))))))\n",
    "len(\n",
    "    [\n",
    "        pair\n",
    "        for pair in open(\"data/day-4.txt\").read().splitlines()\n",
    "        if contains(*list(map(make_range, pair.split(\",\"))))\n",
    "    ]\n",
    ")"
   ]
  },
  {
   "cell_type": "markdown",
   "metadata": {},
   "source": [
    "### Second Puzzle\n"
   ]
  },
  {
   "cell_type": "code",
   "execution_count": 121,
   "metadata": {},
   "outputs": [
    {
     "data": {
      "text/plain": [
       "770"
      ]
     },
     "execution_count": 121,
     "metadata": {},
     "output_type": "execute_result"
    }
   ],
   "source": [
    "overlap = lambda x, y: x.intersection(y) != set()\n",
    "len(\n",
    "    [\n",
    "        pair\n",
    "        for pair in open(\"data/day-4.txt\").read().splitlines()\n",
    "        if overlap(*(map(set, map(make_range, pair.split(\",\")))))\n",
    "    ]\n",
    ")"
   ]
  },
  {
   "cell_type": "markdown",
   "metadata": {},
   "source": [
    "# Learnings\n",
    "- Dont forget that range() is an open and closed discrete range $(a,b]$\n",
    "\n",
    "A reflection here is that while in Puzzle 2 we used sets to solve the problem. There are likely more space efficient methods where logic can be applied."
   ]
  },
  {
   "cell_type": "markdown",
   "metadata": {},
   "source": [
    "# Runtimes"
   ]
  },
  {
   "cell_type": "code",
   "execution_count": 122,
   "metadata": {},
   "outputs": [
    {
     "name": "stdout",
     "output_type": "stream",
     "text": [
      "1.2 ms ± 11.5 µs per loop (mean ± std. dev. of 7 runs, 1,000 loops each)\n"
     ]
    }
   ],
   "source": [
    "%%timeit\n",
    "contains = (\n",
    "    lambda x, y: x.start <= y.start\n",
    "    and x.stop >= y.stop\n",
    "    or x.start >= y.start\n",
    "    and x.stop <= y.stop\n",
    ")\n",
    "add = lambda x: [x[0], x[1] + 1]\n",
    "make_range = lambda x: range(*add(list(map(int, (x.split(\"-\"))))))\n",
    "len(\n",
    "    [\n",
    "        pair\n",
    "        for pair in open(\"data/day-4.txt\").read().splitlines()\n",
    "        if contains(*list(map(make_range, pair.split(\",\"))))\n",
    "    ]\n",
    ")"
   ]
  },
  {
   "cell_type": "code",
   "execution_count": 123,
   "metadata": {},
   "outputs": [
    {
     "name": "stdout",
     "output_type": "stream",
     "text": [
      "2.38 ms ± 27.5 µs per loop (mean ± std. dev. of 7 runs, 100 loops each)\n"
     ]
    }
   ],
   "source": [
    "%%timeit\n",
    "add = lambda x: [x[0], x[1] + 1]\n",
    "make_range = lambda x: range(*add(list(map(int, (x.split(\"-\"))))))\n",
    "overlap = lambda x, y: x.intersection(y) != set()\n",
    "len(\n",
    "    [\n",
    "        pair\n",
    "        for pair in open(\"data/day-4.txt\").read().splitlines()\n",
    "        if overlap(*(map(set, map(make_range, pair.split(\",\")))))\n",
    "    ]\n",
    ")"
   ]
  },
  {
   "cell_type": "code",
   "execution_count": null,
   "metadata": {},
   "outputs": [],
   "source": []
  }
 ],
 "metadata": {
  "kernelspec": {
   "display_name": "Python 3.10.6 64-bit",
   "language": "python",
   "name": "python3"
  },
  "language_info": {
   "codemirror_mode": {
    "name": "ipython",
    "version": 3
   },
   "file_extension": ".py",
   "mimetype": "text/x-python",
   "name": "python",
   "nbconvert_exporter": "python",
   "pygments_lexer": "ipython3",
   "version": "3.10.6"
  },
  "orig_nbformat": 4,
  "vscode": {
   "interpreter": {
    "hash": "b0fa6594d8f4cbf19f97940f81e996739fb7646882a419484c72d19e05852a7e"
   }
  }
 },
 "nbformat": 4,
 "nbformat_minor": 2
}
