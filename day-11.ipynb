{
 "cells": [
  {
   "cell_type": "markdown",
   "metadata": {},
   "source": [
    "# 2022-12-11"
   ]
  },
  {
   "cell_type": "markdown",
   "metadata": {},
   "source": [
    "## Performance Summary\n",
    "Inital p1: 163 ms ± 67.7 ms _* see cell for more info_\n",
    "\n",
    "Initial p2: 2.01 s ± 6.4 ms"
   ]
  },
  {
   "cell_type": "markdown",
   "metadata": {},
   "source": [
    "## Initial solution\n",
    "Woke up att 5:50am (~Midnight UTC-5) and did it on time. \n",
    "```\n",
    "      --------Part 1--------   --------Part 2--------\n",
    "Day       Time   Rank  Score       Time   Rank  Score\n",
    " 11   01:02:24   6021      0   03:25:47   8882      0\n",
    "```"
   ]
  },
  {
   "cell_type": "markdown",
   "metadata": {},
   "source": [
    "### Puzzle 1\n",
    "\n",
    "We fetch the monkey data and calculate the new worry levels. We then run the divisibility test on the new worry level and move the item accordingly. We repeat this 20 times as per the assignment."
   ]
  },
  {
   "cell_type": "code",
   "execution_count": 1,
   "metadata": {},
   "outputs": [
    {
     "name": "stdout",
     "output_type": "stream",
     "text": [
      "Monkey Business: 112815\n"
     ]
    }
   ],
   "source": [
    "from collections import defaultdict\n",
    "monkey_items = defaultdict(list)\n",
    "monkey_business = defaultdict(int)\n",
    "data = [x.splitlines() for x in open(\"data/day-11.txt\").read().split(\"\\n\\n\")]\n",
    "\n",
    "def p1():\n",
    "    for monkey in data:\n",
    "        id = monkey[0][:-1].split(\" \")[-1]\n",
    "        items = eval(monkey[1].split(':')[1])\n",
    "        if type(items) == int: \n",
    "            monkey_items[id] += [items]\n",
    "        else:\n",
    "            monkey_items[id] += list(items)\n",
    "    for round in range(20):\n",
    "        for monkey in data:\n",
    "            id = monkey[0][:-1].split(\" \")[-1]\n",
    "            operation = monkey[2].split(\" = \")[1][3:].replace(\"old\", \"item\")\n",
    "            test = int(monkey[3].split(\" \")[-1])\n",
    "            iftrue = monkey[4].split(\" \")[-1]\n",
    "            iffalse = monkey[5].split(\" \")[-1]\n",
    "            for item in monkey_items[id]:\n",
    "                monkey_business[id] += 1\n",
    "                worry_level = eval(f\"{item} {operation}\")\n",
    "                monkey_bored_worry_level = worry_level // 3 \n",
    "                if monkey_bored_worry_level % test == 0:\n",
    "                    monkey_items[iftrue].append(monkey_bored_worry_level)\n",
    "                else:\n",
    "                    monkey_items[iffalse].append(monkey_bored_worry_level)\n",
    "            monkey_items[id] = []\n",
    "    top_business = sorted(list(monkey_business.values()))[-2:]\n",
    "    return top_business[0] * top_business[1]\n",
    "\n",
    "print(\"Monkey Business:\", p1())"
   ]
  },
  {
   "cell_type": "markdown",
   "metadata": {},
   "source": [
    "### Puzzle 2\n",
    "So this was an interesting one. Running the above code for 10 000 rounds without the worry level divided by three would result in a program that wouldn't converge for likely many thousand years lmao. \n",
    "\n",
    "The difference here is that we have made it more class-like for readability, then the key difference in terms of computational methods is that we have calculated the product of the divisibility terms. We use this product to reset the worry level back to a smaller value that upholds the same divisibility properties.\n",
    "\n",
    "Example:\n",
    "\n",
    "$D = {19, 5}, \\quad D_{\\text{prod}} = 95$\n",
    "\n",
    "We have our large number:\n",
    "\n",
    "$x = 2847$\n",
    "\n",
    "The divisibility properties are:\n",
    "\n",
    "$x \\mod 19 = 16, \\quad x \\mod 5 = 2$\n",
    "\n",
    "We can denote these more generally as:\n",
    "\n",
    "$P = \\{x \\mod D_i \\quad \\forall i \\in D\\}$\n",
    "\n",
    "We calculate the smaller number that upholds the same divisibility properties, generally: \n",
    "\n",
    "$y = x - \\lfloor \\frac{x}{D_{\\text{prod}}}\\rfloor \\cdot x$\n",
    "\n",
    "For this example:\n",
    "\n",
    "$y = 2847 - (\\lfloor \\frac{2847}{95}\\rfloor \\cdot 95) = 2847 - (29 \\cdot 95) = 92$\n",
    "\n",
    "$y \\mod 19 = 16, \\quad y \\mod 5 = 2$\n",
    "\n",
    "Thus we have found a smaller number that upholds the same divisibility properties. We use this to refrain the worry levels to grow too large.\n",
    "\n",
    "$P_x = P_y$"
   ]
  },
  {
   "cell_type": "code",
   "execution_count": 2,
   "metadata": {},
   "outputs": [
    {
     "name": "stdout",
     "output_type": "stream",
     "text": [
      "Monkey Business: 25738411485\n"
     ]
    }
   ],
   "source": [
    "import numpy as np\n",
    "\n",
    "data = [x.splitlines() for x in open(\"data/day-11.txt\").read().split(\"\\n\\n\")]\n",
    "\n",
    "def p2():\n",
    "\n",
    "    class Monkey:\n",
    "        def __init__(self, id):\n",
    "            self.id = id\n",
    "\n",
    "    class MonkeyBusiness:\n",
    "        def __init__(self, data):\n",
    "            self.data = data\n",
    "            self.monkies = []\n",
    "            for monkey_data in self.data:\n",
    "                m = Monkey(monkey_data[0][:-1].split(\" \")[-1])\n",
    "                items = eval(monkey_data[1].split(':')[1])\n",
    "                m.items = [items] if type(items) == int else list(items)\n",
    "                m.operation = monkey_data[2].split(\" = \")[1][3:].replace(\"old\", \"item\")\n",
    "                m.test = int(monkey_data[3].split(\" \")[-1])\n",
    "                m.iftrue = int(monkey_data[4].split(\" \")[-1])\n",
    "                m.iffalse = int(monkey_data[5].split(\" \")[-1])\n",
    "                m.business = 0\n",
    "                self.monkies.append(m)\n",
    "            self.worry_loop = int(np.product([m.test for m in self.monkies]))\n",
    "        def business(self): return [m.business for m in self.monkies]\n",
    "        def items(self): return [m.items for m in self.monkies]\n",
    "\n",
    "    monkey_business = MonkeyBusiness(data)\n",
    "\n",
    "    for round in range(10000):\n",
    "        print(round, end='\\r')\n",
    "        for monkey in monkey_business.monkies:\n",
    "            for item in monkey.items:\n",
    "                if item >= monkey_business.worry_loop:\n",
    "                    item -= ((item // monkey_business.worry_loop) * monkey_business.worry_loop)\n",
    "                monkey.business += 1\n",
    "                worry_level = eval(f\"{item} {monkey.operation}\")\n",
    "                if worry_level % monkey.test == 0:\n",
    "                    (monkey_business.monkies[monkey.iftrue].items).append(worry_level)\n",
    "                else:\n",
    "                    (monkey_business.monkies[monkey.iffalse].items).append(worry_level)\n",
    "            monkey.items = []\n",
    "    top_business = sorted(list(monkey_business.business()))[-2:]\n",
    "    return top_business[0] * top_business[1]\n",
    "\n",
    "print(\"Monkey Business:\", p2())"
   ]
  },
  {
   "cell_type": "markdown",
   "metadata": {},
   "source": [
    "# Learnings"
   ]
  },
  {
   "cell_type": "markdown",
   "metadata": {},
   "source": [
    "Todays problem was fun, at first, I was afraid of string parsing taking a long time. Although, splitting the data into relevant chunks worked out just fine. Something cool that I learned is the `eval` function in python. It can be used to evaluate strings as python code. \n",
    "\n",
    "At first, I thought that maybe the solution to p2 was in some general divisability rule. I gave it serious consideration and tried to understand if there were methods to check for divisability on computational graphs and save a computational graph instead. It wasn't until a long while later that it clicked that I could maintain the divisability properties by calculating the product of the divisability terms and then using that to reset the worry level.\n",
    "\n",
    "- `eval` function in python"
   ]
  },
  {
   "cell_type": "markdown",
   "metadata": {},
   "source": [
    "# Runtimes"
   ]
  },
  {
   "cell_type": "code",
   "execution_count": 3,
   "metadata": {},
   "outputs": [
    {
     "name": "stdout",
     "output_type": "stream",
     "text": [
      "The slowest run took 4.33 times longer than the fastest. This could mean that an intermediate result is being cached.\n",
      "165 ms ± 68 ms per loop (mean ± std. dev. of 7 runs, 10 loops each)\n"
     ]
    }
   ],
   "source": [
    "%%timeit\n",
    "p1()"
   ]
  },
  {
   "cell_type": "code",
   "execution_count": 4,
   "metadata": {},
   "outputs": [
    {
     "name": "stdout",
     "output_type": "stream",
     "text": [
      "2.03 s ± 27.6 ms per loop (mean ± std. dev. of 7 runs, 1 loop each)\n"
     ]
    }
   ],
   "source": [
    "%%timeit\n",
    "p2()"
   ]
  }
 ],
 "metadata": {
  "kernelspec": {
   "display_name": "Python 3.10.6 64-bit",
   "language": "python",
   "name": "python3"
  },
  "language_info": {
   "codemirror_mode": {
    "name": "ipython",
    "version": 3
   },
   "file_extension": ".py",
   "mimetype": "text/x-python",
   "name": "python",
   "nbconvert_exporter": "python",
   "pygments_lexer": "ipython3",
   "version": "3.10.6"
  },
  "orig_nbformat": 4,
  "vscode": {
   "interpreter": {
    "hash": "b0fa6594d8f4cbf19f97940f81e996739fb7646882a419484c72d19e05852a7e"
   }
  }
 },
 "nbformat": 4,
 "nbformat_minor": 2
}
