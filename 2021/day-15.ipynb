{
 "cells": [
  {
   "cell_type": "markdown",
   "metadata": {},
   "source": [
    "### First Puzzle"
   ]
  },
  {
   "cell_type": "code",
   "execution_count": 99,
   "metadata": {},
   "outputs": [
    {
     "data": {
      "text/plain": [
       "423"
      ]
     },
     "execution_count": 99,
     "metadata": {},
     "output_type": "execute_result"
    }
   ],
   "source": [
    "import numpy as np\n",
    "from collections import defaultdict\n",
    "\n",
    "graph = np.array(list(map(list, open(\"data/day-15.txt\").read().splitlines())), dtype=int)\n",
    "def shortestPath(graph):\n",
    "    lookup = defaultdict(lambda: np.infty, {})\n",
    "    optimality_graph = np.zeros_like(graph)\n",
    "    optimality_path = np.empty_like(graph, dtype=tuple)\n",
    "\n",
    "    for x in range(graph.shape[0]):\n",
    "        for y in range(graph.shape[1]):\n",
    "            if (x,y) == (0,0): \n",
    "                lookup[0,0] = 0\n",
    "            else:\n",
    "                neighbors = [(x-1,y), (x,y-1), (x+1,y), (x,y+1)]\n",
    "                min_neighbor = np.argmin(list(map(lambda x: lookup[x], neighbors)))\n",
    "                lookup[(x,y)] = lookup[neighbors[min_neighbor]] + graph[x,y]\n",
    "                optimality_path[(x,y)] = neighbors[min_neighbor]\n",
    "                \n",
    "    for x in range(graph.shape[0]):\n",
    "        for y in range(graph.shape[1]):\n",
    "            optimality_graph[x,y] = lookup[(x,y)]\n",
    "\n",
    "    return optimality_graph[-1,-1]\n",
    "\n",
    "shortestPath(graph)"
   ]
  },
  {
   "cell_type": "markdown",
   "metadata": {},
   "source": [
    "### Second puzzle"
   ]
  },
  {
   "cell_type": "code",
   "execution_count": 70,
   "metadata": {},
   "outputs": [
    {
     "data": {
      "text/plain": [
       "315"
      ]
     },
     "execution_count": 70,
     "metadata": {},
     "output_type": "execute_result"
    }
   ],
   "source": [
    "graph = np.array(list(map(list, open(\"data/day-15-t.txt\").read().splitlines())), dtype=int)\n",
    "shift_graph = [[*range(x,x+5)] for x in range(0,5)]\n",
    "shift = lambda x, y : x if y==0 else (x % 9) + 1 if y==1  else shift((x % 9) + 1, y-1)\n",
    "large_graph = np.concatenate([np.concatenate([shift(graph, shift_graph[x][y]) for y in range(5)], axis=1) for x in range(5)], axis=0)\n",
    "\n",
    "shortestPath(large_graph)"
   ]
  },
  {
   "cell_type": "code",
   "execution_count": 100,
   "metadata": {},
   "outputs": [
    {
     "data": {
      "text/plain": [
       "2789"
      ]
     },
     "execution_count": 100,
     "metadata": {},
     "output_type": "execute_result"
    }
   ],
   "source": [
    "graph = np.array(list(map(list, open(\"data/day-15.txt\").read().splitlines())), dtype=int)\n",
    "shift_graph = [[*range(x,x+5)] for x in range(0,5)]\n",
    "shift = lambda x, y : x if y==0 else (x % 9) + 1 if y==1 else shift((x % 9) + 1, y-1)\n",
    "large_graph = np.concatenate([np.concatenate([shift(graph, shift_graph[x][y]) for y in range(5)], axis=1) for x in range(5)], axis=0)\n",
    "\n",
    "shortestPath(large_graph)"
   ]
  },
  {
   "cell_type": "code",
   "execution_count": null,
   "metadata": {},
   "outputs": [],
   "source": []
  }
 ],
 "metadata": {
  "kernelspec": {
   "display_name": "Python 3.10.6 64-bit",
   "language": "python",
   "name": "python3"
  },
  "language_info": {
   "codemirror_mode": {
    "name": "ipython",
    "version": 3
   },
   "file_extension": ".py",
   "mimetype": "text/x-python",
   "name": "python",
   "nbconvert_exporter": "python",
   "pygments_lexer": "ipython3",
   "version": "3.10.6"
  },
  "orig_nbformat": 4,
  "vscode": {
   "interpreter": {
    "hash": "b0fa6594d8f4cbf19f97940f81e996739fb7646882a419484c72d19e05852a7e"
   }
  }
 },
 "nbformat": 4,
 "nbformat_minor": 2
}
