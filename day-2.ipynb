{
 "cells": [
  {
   "cell_type": "markdown",
   "metadata": {},
   "source": [
    "# 2022-12-02"
   ]
  },
  {
   "cell_type": "markdown",
   "metadata": {},
   "source": [
    "## Initial solution\n",
    "Woke up att 5:55am (~Midnight UTC-5) and did it on time. \n",
    "```\n",
    "      --------Part 1--------   --------Part 2--------\n",
    "Day       Time   Rank  Score       Time   Rank  Score\n",
    "  2   00:39:18  13473      0   00:52:40  13056      0\n",
    "```"
   ]
  },
  {
   "cell_type": "markdown",
   "metadata": {},
   "source": [
    "### First Puzzle\n",
    "Although this took waaay too long to complete due to me not reading the assignment correctly, it should be a very efficient solution since we hare using hashmaps. We have a hashtable with the mappings for different play and their respective scores. We then iterate through the different plays and fetch their scores in constant time. \n",
    "\n",
    "A draw back with this solution is that the play relationships are not obvious from the code. A more interpretable solution is possible.\n",
    "\n",
    "> Many mistakes on this one, I had scrambled X, Y, Z to mean something else and did not discover it until very late :/"
   ]
  },
  {
   "cell_type": "code",
   "execution_count": 155,
   "metadata": {},
   "outputs": [],
   "source": [
    "from collections import defaultdict\n",
    "with open(\"data/day-2.txt\") as f:\n",
    "    data = f.read().splitlines()\n",
    "mapping_results = defaultdict(int, {\n",
    "    \"C X\": 6,\n",
    "    \"A Y\": 6,\n",
    "    \"B Z\": 6,\n",
    "    \"A X\": 3,\n",
    "    \"B Y\": 3,\n",
    "    \"C Z\": 3})\n",
    "mapping_type = defaultdict(int, {\"X\": 1, \"Y\": 2, \"Z\": 3})\n",
    "\n",
    "getscore = lambda x: mapping_results[x] + mapping_type[x[2]]"
   ]
  },
  {
   "cell_type": "code",
   "execution_count": 156,
   "metadata": {},
   "outputs": [
    {
     "data": {
      "text/plain": [
       "15"
      ]
     },
     "execution_count": 156,
     "metadata": {},
     "output_type": "execute_result"
    }
   ],
   "source": [
    "test_data = [\"A Y\", \"B X\", \"C Z\"]\n",
    "sum(list(map(getscore, test_data)))"
   ]
  },
  {
   "cell_type": "code",
   "execution_count": 157,
   "metadata": {},
   "outputs": [
    {
     "data": {
      "text/plain": [
       "14827"
      ]
     },
     "execution_count": 157,
     "metadata": {},
     "output_type": "execute_result"
    }
   ],
   "source": [
    "sum(list(map(getscore, data)))"
   ]
  },
  {
   "cell_type": "markdown",
   "metadata": {},
   "source": [
    "### Second Puzzle\n",
    "Here we create a hash table with the different play relationships. We then iterate through the different plays and fetch their scores in constant time."
   ]
  },
  {
   "cell_type": "code",
   "execution_count": 158,
   "metadata": {},
   "outputs": [],
   "source": [
    "win_mapping = {\n",
    "    \"C\" : \"X\",\n",
    "    \"A\" : \"Y\",\n",
    "    \"B\" : \"Z\"\n",
    "}\n",
    "draw_mapping = {\n",
    "    \"A\" : \"X\",\n",
    "    \"B\" : \"Y\",\n",
    "    \"C\" : \"Z\"\n",
    "}\n",
    "lose_mapping = {\n",
    "    \"A\" : \"Z\",\n",
    "    \"B\" : \"X\",\n",
    "    \"C\" : \"Y\"\n",
    "}\n",
    "\n",
    "getAction = lambda x: win_mapping[x[0]] if x[2] == \"Z\" else draw_mapping[x[0]] if x[2] == \"Y\" else lose_mapping[x[0]]\n",
    "getPlay = lambda x, y: x[0] + \" \" + y\n",
    "getscore2 = lambda x: mapping_results[getPlay(x, getAction(x))] + mapping_type[getAction(x)]"
   ]
  },
  {
   "cell_type": "code",
   "execution_count": 159,
   "metadata": {},
   "outputs": [
    {
     "data": {
      "text/plain": [
       "12"
      ]
     },
     "execution_count": 159,
     "metadata": {},
     "output_type": "execute_result"
    }
   ],
   "source": [
    "test_data = [\"A Y\", \"B X\", \"C Z\"]\n",
    "sum(list(map(getscore2, test_data)))"
   ]
  },
  {
   "cell_type": "code",
   "execution_count": 161,
   "metadata": {},
   "outputs": [
    {
     "data": {
      "text/plain": [
       "13889"
      ]
     },
     "execution_count": 161,
     "metadata": {},
     "output_type": "execute_result"
    }
   ],
   "source": [
    "sum(list(map(getscore2, data)))"
   ]
  },
  {
   "cell_type": "markdown",
   "metadata": {},
   "source": [
    "### Runtime"
   ]
  },
  {
   "cell_type": "code",
   "execution_count": 162,
   "metadata": {},
   "outputs": [
    {
     "name": "stdout",
     "output_type": "stream",
     "text": [
      "291 µs ± 4.87 µs per loop (mean ± std. dev. of 7 runs, 1,000 loops each)\n"
     ]
    }
   ],
   "source": [
    "%%timeit\n",
    "with open(\"data/day-2.txt\") as f:\n",
    "    data = f.read().splitlines()\n",
    "mapping_results = defaultdict(int, {\n",
    "    \"C X\": 6,\n",
    "    \"A Y\": 6,\n",
    "    \"B Z\": 6,\n",
    "    \"A X\": 3,\n",
    "    \"B Y\": 3,\n",
    "    \"C Z\": 3})\n",
    "mapping_type = defaultdict(int, {\"X\": 1, \"Y\": 2, \"Z\": 3})\n",
    "\n",
    "getscore = lambda x: mapping_results[x] + mapping_type[x[2]]\n",
    "sum(list(map(getscore, data)))"
   ]
  },
  {
   "cell_type": "code",
   "execution_count": 163,
   "metadata": {},
   "outputs": [
    {
     "name": "stdout",
     "output_type": "stream",
     "text": [
      "926 µs ± 16.2 µs per loop (mean ± std. dev. of 7 runs, 1,000 loops each)\n"
     ]
    }
   ],
   "source": [
    "%%timeit\n",
    "with open(\"data/day-2.txt\") as f:\n",
    "    data = f.read().splitlines()\n",
    "mapping_results = defaultdict(int, {\n",
    "    \"C X\": 6,\n",
    "    \"A Y\": 6,\n",
    "    \"B Z\": 6,\n",
    "    \"A X\": 3,\n",
    "    \"B Y\": 3,\n",
    "    \"C Z\": 3})\n",
    "mapping_type = defaultdict(int, {\"X\": 1, \"Y\": 2, \"Z\": 3})\n",
    "\n",
    "win_mapping = {\n",
    "    \"C\" : \"X\",\n",
    "    \"A\" : \"Y\",\n",
    "    \"B\" : \"Z\"\n",
    "}\n",
    "draw_mapping = {\n",
    "    \"A\" : \"X\",\n",
    "    \"B\" : \"Y\",\n",
    "    \"C\" : \"Z\"\n",
    "}\n",
    "lose_mapping = {\n",
    "    \"A\" : \"Z\",\n",
    "    \"B\" : \"X\",\n",
    "    \"C\" : \"Y\"\n",
    "}\n",
    "\n",
    "getAction = lambda x: win_mapping[x[0]] if x[2] == \"Z\" else draw_mapping[x[0]] if x[2] == \"Y\" else lose_mapping[x[0]]\n",
    "getPlay = lambda x, y: x[0] + \" \" + y\n",
    "getscore2 = lambda x: mapping_results[getPlay(x, getAction(x))] + mapping_type[getAction(x)]\n",
    "\n",
    "sum(list(map(getscore2, data)))"
   ]
  },
  {
   "cell_type": "markdown",
   "metadata": {},
   "source": [
    "# Other leanings\n",
    "Don't spam try your solutions, it's a waste of time and once you end up with the right solution there is a cooldown period where you just sit and wait. Confirm and think through your code if it doesnt work the first time around."
   ]
  },
  {
   "cell_type": "markdown",
   "metadata": {},
   "source": []
  }
 ],
 "metadata": {
  "kernelspec": {
   "display_name": "Python 3.10.6 64-bit",
   "language": "python",
   "name": "python3"
  },
  "language_info": {
   "codemirror_mode": {
    "name": "ipython",
    "version": 3
   },
   "file_extension": ".py",
   "mimetype": "text/x-python",
   "name": "python",
   "nbconvert_exporter": "python",
   "pygments_lexer": "ipython3",
   "version": "3.10.6"
  },
  "orig_nbformat": 4,
  "vscode": {
   "interpreter": {
    "hash": "b0fa6594d8f4cbf19f97940f81e996739fb7646882a419484c72d19e05852a7e"
   }
  }
 },
 "nbformat": 4,
 "nbformat_minor": 2
}
