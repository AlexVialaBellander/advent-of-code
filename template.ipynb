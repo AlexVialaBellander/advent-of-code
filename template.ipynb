{
 "cells": [
  {
   "cell_type": "markdown",
   "metadata": {},
   "source": [
    "# 2022-12-XX"
   ]
  },
  {
   "cell_type": "markdown",
   "metadata": {},
   "source": [
    "## Performance Summary\n",
    "Inital p1: \n",
    "\n",
    "Initial p2: "
   ]
  },
  {
   "cell_type": "markdown",
   "metadata": {},
   "source": [
    "## Initial solution\n",
    "Woke up att 5:50am (~Midnight UTC-5) and did it on time. \n",
    "```\n",
    "      --------Part 1--------   --------Part 2--------\n",
    "Day       Time   Rank  Score       Time   Rank  Score\n",
    "\n",
    "```"
   ]
  },
  {
   "cell_type": "markdown",
   "metadata": {},
   "source": [
    "### Puzzle 1\n",
    "\n",
    "Lorem ipsum dolor sit amet, consectetur adipiscing elit. Ut non metus eget elit consequat pharetra. Curabitur elementum diam eget enim viverra, eu vestibulum turpis vulputate. Curabitur non metus purus. Fusce suscipit quam sed sapien placerat viverra. In sed porttitor eros. Phasellus sed pulvinar urna. Ut quis finibus quam. Curabitur hendrerit accumsan varius. Vestibulum at metus et nulla tincidunt aliquet. Etiam tincidunt felis a purus dictum bibendum. Donec enim eros, placerat sit amet tellus eget, porta tempor massa."
   ]
  },
  {
   "cell_type": "code",
   "execution_count": null,
   "metadata": {},
   "outputs": [],
   "source": []
  },
  {
   "cell_type": "markdown",
   "metadata": {},
   "source": [
    "### Puzzle 2\n",
    "Lorem ipsum dolor sit amet, consectetur adipiscing elit. Ut non metus eget elit consequat pharetra. Curabitur elementum diam eget enim viverra, eu vestibulum turpis vulputate. Curabitur non metus purus. Fusce suscipit quam sed sapien placerat viverra. In sed porttitor eros. Phasellus sed pulvinar urna. Ut quis finibus quam. Curabitur hendrerit accumsan varius. Vestibulum at metus et nulla tincidunt aliquet. Etiam tincidunt felis a purus dictum bibendum. Donec enim eros, placerat sit amet tellus eget, porta tempor massa."
   ]
  },
  {
   "cell_type": "code",
   "execution_count": null,
   "metadata": {},
   "outputs": [],
   "source": []
  },
  {
   "cell_type": "markdown",
   "metadata": {},
   "source": [
    "# Learnings"
   ]
  },
  {
   "cell_type": "markdown",
   "metadata": {},
   "source": [
    "Lorem ipsum dolor sit amet, consectetur adipiscing elit. Ut non metus eget elit consequat pharetra. Curabitur elementum diam eget enim viverra, eu vestibulum turpis vulputate. Curabitur non metus purus. Fusce suscipit quam sed sapien placerat viverra.\n",
    "\n",
    "- In sed porttitor eros. Phasellus sed pulvinar urna. \n",
    "- Etiam tincidunt felis a purus dictum bibendum."
   ]
  },
  {
   "cell_type": "markdown",
   "metadata": {},
   "source": [
    "# Runtimes"
   ]
  },
  {
   "cell_type": "code",
   "execution_count": null,
   "metadata": {},
   "outputs": [],
   "source": [
    "%%timeit\n",
    "p1()"
   ]
  },
  {
   "cell_type": "code",
   "execution_count": null,
   "metadata": {},
   "outputs": [],
   "source": [
    "%%timeit\n",
    "p2()"
   ]
  }
 ],
 "metadata": {
  "kernelspec": {
   "display_name": "Python 3.10.6 64-bit",
   "language": "python",
   "name": "python3"
  },
  "language_info": {
   "codemirror_mode": {
    "name": "ipython",
    "version": 3
   },
   "file_extension": ".py",
   "mimetype": "text/x-python",
   "name": "python",
   "nbconvert_exporter": "python",
   "pygments_lexer": "ipython3",
   "version": "3.10.6"
  },
  "orig_nbformat": 4,
  "vscode": {
   "interpreter": {
    "hash": "b0fa6594d8f4cbf19f97940f81e996739fb7646882a419484c72d19e05852a7e"
   }
  }
 },
 "nbformat": 4,
 "nbformat_minor": 2
}
