{
 "cells": [
  {
   "cell_type": "markdown",
   "metadata": {},
   "source": [
    "# 2023-12-08"
   ]
  },
  {
   "cell_type": "code",
   "execution_count": 1,
   "metadata": {},
   "outputs": [],
   "source": [
    "from aocd.models import Puzzle\n",
    "\n",
    "puzzle = Puzzle(year=2023, day=8)\n"
   ]
  },
  {
   "cell_type": "markdown",
   "metadata": {},
   "source": [
    "## Initial solution\n",
    "Didnt do it on time today and had to transit to work between part 1 and 2. But I found todays quite easy.\n",
    "```\n",
    "      --------Part 1--------   --------Part 2--------\n",
    "Day       Time   Rank  Score       Time   Rank  Score\n",
    "  8   01:58:11  15491      0   03:29:34  12885      0\n",
    "```"
   ]
  },
  {
   "cell_type": "code",
   "execution_count": 11,
   "metadata": {},
   "outputs": [],
   "source": [
    "from math import lcm\n",
    "\n",
    "data_table = puzzle.input_data.splitlines()\n",
    "instructions, paths = data_table[0], data_table[2:]\n",
    "paths = {r[0]: {\"L\": r[1][1:4], \"R\": r[1][6:9]} for r in [r.split(\" = \") for r in paths]}\n",
    "\n",
    "\n",
    "def steps(current, stop_condition):\n",
    "    steps = 0\n",
    "    while stop_condition(current):\n",
    "        current = paths[current][instructions[steps % len(instructions)]]\n",
    "        steps += 1\n",
    "    return steps\n",
    "\n",
    "\n",
    "puzzle.answer_a = steps(\"AAA\", lambda x: x != \"ZZZ\")\n",
    "puzzle.answer_b = lcm(*[steps(n, lambda x: x[-1] != \"Z\") for n in [x for x in paths if x[-1] == \"A\"]])\n"
   ]
  },
  {
   "cell_type": "code",
   "execution_count": null,
   "metadata": {},
   "outputs": [],
   "source": []
  }
 ],
 "metadata": {
  "kernelspec": {
   "display_name": "Python 3.10.6 64-bit",
   "language": "python",
   "name": "python3"
  },
  "language_info": {
   "codemirror_mode": {
    "name": "ipython",
    "version": 3
   },
   "file_extension": ".py",
   "mimetype": "text/x-python",
   "name": "python",
   "nbconvert_exporter": "python",
   "pygments_lexer": "ipython3",
   "version": "3.12.0"
  },
  "orig_nbformat": 4,
  "vscode": {
   "interpreter": {
    "hash": "b0fa6594d8f4cbf19f97940f81e996739fb7646882a419484c72d19e05852a7e"
   }
  }
 },
 "nbformat": 4,
 "nbformat_minor": 2
}
