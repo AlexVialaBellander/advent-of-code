{
 "cells": [
  {
   "cell_type": "markdown",
   "metadata": {},
   "source": [
    "# 2023-12-05"
   ]
  },
  {
   "cell_type": "code",
   "execution_count": 1,
   "metadata": {},
   "outputs": [],
   "source": [
    "from aocd.models import Puzzle\n"
   ]
  },
  {
   "cell_type": "markdown",
   "metadata": {},
   "source": [
    "## Initial solution\n",
    "Woke up att 5:50am (~Midnight UTC-5) and did it on time. \n",
    "```\n",
    "      --------Part 1--------   --------Part 2--------\n",
    "Day       Time   Rank  Score       Time   Rank  Score\n",
    "  5   01:20:56  10089      0   04:25:14   9235      0\n",
    "```"
   ]
  },
  {
   "cell_type": "markdown",
   "metadata": {},
   "source": [
    "### Puzzle 1\n",
    "Sheesh, this was embarassing. The idea her is that we first create a mapping table and then we traverse each seed and follow it through recursively until it reaches the \"location\" type. The lookup operations are instant and work fast.\n",
    "\n",
    "Not sure why I was so slow. "
   ]
  },
  {
   "cell_type": "code",
   "execution_count": 136,
   "metadata": {},
   "outputs": [],
   "source": [
    "from collections import defaultdict\n",
    "\n",
    "puzzle = Puzzle(2023, 5)\n",
    "\n",
    "t_table = defaultdict(dict)\n",
    "chunks = [x.splitlines() for x in puzzle.input_data.split(\"\\n\\n\")]\n",
    "seeds, mappings = chunks[0][0].split(\": \")[1:][0].split(\" \"), chunks[1:]\n",
    "\n",
    "for mapping in mappings:\n",
    "    source_key, target_key = mapping[0].split(\" map\")[0].split(\"-to-\")\n",
    "    t_table[source_key].update({\"ranges\": []})\n",
    "    t_table[source_key].update({\"target\": target_key})\n",
    "    for ranges in mapping[1:]:\n",
    "        dest_start, source_start, length = map(lambda x: int(x), ranges.split(\" \"))\n",
    "        offset = dest_start - source_start\n",
    "        t_table[source_key][\"ranges\"].append({range(source_start, source_start + length): offset})\n",
    "\n",
    "def traverse(init_value, init_type=\"seed\", target_type=\"location\"):\n",
    "    if init_type == target_type:\n",
    "        return init_value\n",
    "    ranges = t_table.get(init_type).get(\"ranges\")\n",
    "    target = t_table.get(init_type).get(\"target\")\n",
    "    for r in ranges:\n",
    "        if init_value in list(r.keys())[0]:\n",
    "            offset = list(r.values())[0]\n",
    "            #print(f\"{init_type} {init_value} -> {target} {init_value + offset}, offset: {offset} using {r}\")\n",
    "            return traverse(init_value + offset, init_type=target)\n",
    "    #print(f\"{init_type} {init_value} -> {target} {init_value}\")\n",
    "    return traverse(init_value, init_type=target)\n",
    "\n",
    "seeds = [int(x) for x in seeds]\n",
    "puzzle.answer_a = min([traverse(seed) for seed in seeds])\n"
   ]
  },
  {
   "cell_type": "markdown",
   "metadata": {},
   "source": [
    "### Part 2\n",
    "Here I got really stuck, I didnt understand how to think of the problem until much later. At first I attempted to check if there were sequences that were repeated and thought one could creaet a shortcut mapping, think memoization. But a check revealed that that was not what was causing my solution to be slow.\n",
    "\n",
    "It was only later than I realised that one could interpret is as splicing ranges and just applying the same logic on a range.\n",
    "\n",
    "This solution does the same as the above pretty much, but we first calculate any potential overlap between the ranges, if there is an overlap, we apply the offset to the range and transform it to its new range with its new type. If there was remains of the original range we then call the function recursively with the same parameters to check if there are any more overlaps with other ranges for the type.\n",
    "\n",
    "#### ChatGPT Summary\n",
    "**Range Splitting and Transformation:** It splits an initial range into overlapping and non-overlapping segments relative to a set of predefined ranges. For each overlapping part, it applies an offset to transform the range into the target type.\n",
    "\n",
    "**Recursive Processing:** The function handles the non-overlapping parts of the initial range recursively, ensuring that the entire range is transformed according to the mapping rules.\n",
    "\n",
    "**Aggregation and Optimization:** After processing, the function aggregates all the transformed ranges and selects the one with the smallest starting point. This ensures the most optimal transformation result."
   ]
  },
  {
   "cell_type": "code",
   "execution_count": 137,
   "metadata": {},
   "outputs": [],
   "source": [
    "def split_initial_range(range1, range2):\n",
    "    start_overlap = max(range1.start, range2.start)\n",
    "    end_overlap = min(range1.stop, range2.stop)\n",
    "    overlap = range(start_overlap, end_overlap) if start_overlap < end_overlap else None\n",
    "\n",
    "    remaining_start = range(range1.start, start_overlap) if range1.start < start_overlap else None\n",
    "    remaining_end = range(end_overlap, range1.stop) if end_overlap < range1.stop else None\n",
    "\n",
    "    return overlap, remaining_start, remaining_end\n",
    "\n",
    "def traverse(init_range, init_type=\"seed\", target_type=\"location\"):\n",
    "    if init_type == target_type:\n",
    "        return init_range\n",
    "    ranges = t_table.get(init_type).get(\"ranges\")\n",
    "    target = t_table.get(init_type).get(\"target\")\n",
    "    possible_minimums = []\n",
    "    for r in ranges:\n",
    "        test_range = list(r.keys())[0]\n",
    "        overlap, remaining_start, remaining_end = split_initial_range(init_range, test_range)\n",
    "        if overlap:\n",
    "            offset = list(r.values())[0]\n",
    "            possible_minimums.append(traverse(range(overlap.start + offset, overlap.stop + offset), init_type=target))\n",
    "            for non_overlap in [remaining_start, remaining_end]:\n",
    "                if non_overlap:\n",
    "                    possible_minimums.append(traverse(non_overlap, init_type=init_type))\n",
    "            break\n",
    "    if len(possible_minimums) == 0:\n",
    "        possible_minimums.append(traverse(init_range, init_type=target))\n",
    "    return min(possible_minimums, key=lambda r: r.start)\n",
    "\n",
    "seeds = [int(x) for x in seeds]\n",
    "puzzle.answer_b = min([traverse(r).start for r in [range(x, x + y) for x,y in zip(seeds[::2], seeds[1::2])]])\n"
   ]
  },
  {
   "cell_type": "markdown",
   "metadata": {},
   "source": [
    "### Part 2 with debugging"
   ]
  },
  {
   "cell_type": "code",
   "execution_count": null,
   "metadata": {},
   "outputs": [],
   "source": [
    "\n",
    "def traverse(init_range, init_type=\"seed\", target_type=\"location\"):\n",
    "    if init_type == target_type:\n",
    "        return init_range\n",
    "    ranges = t_table.get(init_type).get(\"ranges\")\n",
    "    target = t_table.get(init_type).get(\"target\")\n",
    "    possible_minimums = []\n",
    "    for r in ranges:\n",
    "        test_range = list(r.keys())[0]\n",
    "        overlap, remaining_start, remaining_end = split_initial_range(init_range, test_range)\n",
    "        #print(f\"Trying {init_type} {init_range} on {test_range}: Overlap {overlap}, remaining_start {remaining_start}, remaining_end {remaining_end}\")\n",
    "        if overlap:\n",
    "            #print(\"There is an overlap\")\n",
    "            offset = list(r.values())[0]\n",
    "            #print(f\"Change: {init_type} {overlap} -> {target} {range(overlap.start + offset, overlap.stop + offset)}, offset: {offset} using {test_range}\")\n",
    "            possible_minimums.append(traverse(range(overlap.start + offset, overlap.stop + offset), init_type=target))\n",
    "            #print(\"Trying remaining start and end\")\n",
    "            for non_overlap in [remaining_start, remaining_end]:\n",
    "                if non_overlap:\n",
    "                    #print(\"There are non-overlap remaining\")\n",
    "                    #print(f\"Re-trying on {init_type} {init_range} with remains: {init_type} {non_overlap}\")\n",
    "                    possible_minimums.append(traverse(non_overlap, init_type=init_type))\n",
    "            break\n",
    "    if len(possible_minimums) == 0:\n",
    "        #print(f\"Changing: {init_type} {init_range} -> {target} {init_range}\")\n",
    "        possible_minimums.append(traverse(init_range, init_type=target))\n",
    "    #print(init_range, init_type, possible_minimums)\n",
    "    #print(\"possible minimums\", possible_minimums, min(possible_minimums, key=lambda r: r.start))\n",
    "    return min(possible_minimums, key=lambda r: r.start)\n",
    "\n",
    "seeds = [int(x) for x in seeds]\n",
    "puzzle.answer_b = min([traverse(r).start for r in [range(x, x + y) for x,y in zip(seeds[::2], seeds[1::2])]])\n"
   ]
  }
 ],
 "metadata": {
  "kernelspec": {
   "display_name": "Python 3.10.6 64-bit",
   "language": "python",
   "name": "python3"
  },
  "language_info": {
   "codemirror_mode": {
    "name": "ipython",
    "version": 3
   },
   "file_extension": ".py",
   "mimetype": "text/x-python",
   "name": "python",
   "nbconvert_exporter": "python",
   "pygments_lexer": "ipython3",
   "version": "3.11.5"
  },
  "orig_nbformat": 4,
  "vscode": {
   "interpreter": {
    "hash": "b0fa6594d8f4cbf19f97940f81e996739fb7646882a419484c72d19e05852a7e"
   }
  }
 },
 "nbformat": 4,
 "nbformat_minor": 2
}
