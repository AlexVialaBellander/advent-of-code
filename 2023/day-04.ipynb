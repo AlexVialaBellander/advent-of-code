{
 "cells": [
  {
   "cell_type": "markdown",
   "metadata": {},
   "source": [
    "# 2023-12-04"
   ]
  },
  {
   "cell_type": "code",
   "execution_count": 2,
   "metadata": {},
   "outputs": [],
   "source": [
    "from aocd.models import Puzzle"
   ]
  },
  {
   "cell_type": "markdown",
   "metadata": {},
   "source": [
    "## Initial solution\n",
    "Woke up att 5:50am (~Midnight UTC-5) and did it on time. \n",
    "```\n",
    "      --------Part 1--------   --------Part 2--------\n",
    "Day       Time   Rank  Score       Time   Rank  Score\n",
    "  4   00:27:07   9484      0   00:46:53   7409      0\n",
    "```"
   ]
  },
  {
   "cell_type": "markdown",
   "metadata": {},
   "source": [
    "### Puzzle 1 and 2\n",
    "Part 1 also took me way too long. I quickly settled on the sliding window approach. I realised a bit too late that, as often with sliding window techniques, you need to consider padding or out of index events. I also realised quite late that retrieving the whole number from inside the sliding window function would be a bit of a pain. Backtracking or going forward to find the whole number seemed overly complex. Instead I created a hash table of all the numbers in the grid. Thus, each index where there was a digit lead to the digits corresponding number. This made the sliding window function much simpler as it only had to fetch the numbers from the hash table.\n",
    "\n",
    "Generally my approach does the following:\n",
    "- Interpreted the task as requiring a sliding window approach.\n",
    "\n",
    "- Created a hashtable where each digit's index in the grid corresponds to the full number, ensuring O(n) complexity.\n",
    "\n",
    "- Added padding to the grid with '.' to prevent index errors when using the sliding window.\n",
    "\n",
    "- When the sliding window's central element hits a symbol, searched the window for numbers.\n",
    "\n",
    "- Used the hashtable index to retrieve the full number associated with each digit.\n",
    "\n",
    "- Implemented unique IDs for each number to differentiate between them in the window and prevent duplicates.\n",
    "\n",
    "- Calculated the sum of these unique numbers.\n",
    "\n",
    "For part two we only had to make minor changes, we stop only at gears `*` and then create a temporary list of the parts in the window. If there are more than two parts in the window we then perform the product operation and add it back to the list that we sum later.\n",
    "\n",
    "### What do I think of my work?\n",
    "Im fucking slow. The approach makes sense but I was slow. Keen to see how others have done it.\n"
   ]
  },
  {
   "cell_type": "code",
   "execution_count": null,
   "metadata": {},
   "outputs": [],
   "source": [
    "import re\n",
    "from collections import defaultdict\n",
    "\n",
    "puzzle = Puzzle(2023, 4)\n",
    "\n",
    "\n",
    "def solve(input_data: list):\n",
    "    cards = [x.split(\": \")[1].split(\" | \") for x in input_data]\n",
    "    points = []\n",
    "    cards_table = defaultdict(lambda: 0)\n",
    "    for i, (wins, guesses) in enumerate(cards):\n",
    "        i += 1  # 1-indexed\n",
    "        cards_table[i] += 1\n",
    "        wins = set(match.group() for match in re.finditer(r\"\\d+\", wins))\n",
    "        guesses = set(match.group() for match in re.finditer(r\"\\d+\", guesses))\n",
    "        correct_guesses = guesses.intersection(wins)\n",
    "        if len(correct_guesses) == 0:\n",
    "            points.append(0)\n",
    "        else:\n",
    "            points.append(2 ** (len(correct_guesses) - 1))\n",
    "        for _ in range(cards_table[i]):\n",
    "            for y in range(len(correct_guesses)):\n",
    "                y += 1  # 1-indexed\n",
    "                cards_table[i + y] += 1\n",
    "    return sum(points), sum(cards_table.values())\n",
    "\n",
    "\n",
    "points, scratchcards = solve(puzzle.input_data.splitlines())\n",
    "puzzle.answer_a = points\n",
    "puzzle.answer_b = scratchcards"
   ]
  }
 ],
 "metadata": {
  "kernelspec": {
   "display_name": "Python 3.10.6 64-bit",
   "language": "python",
   "name": "python3"
  },
  "language_info": {
   "codemirror_mode": {
    "name": "ipython",
    "version": 3
   },
   "file_extension": ".py",
   "mimetype": "text/x-python",
   "name": "python",
   "nbconvert_exporter": "python",
   "pygments_lexer": "ipython3",
   "version": "3.11.5"
  },
  "orig_nbformat": 4,
  "vscode": {
   "interpreter": {
    "hash": "b0fa6594d8f4cbf19f97940f81e996739fb7646882a419484c72d19e05852a7e"
   }
  }
 },
 "nbformat": 4,
 "nbformat_minor": 2
}
