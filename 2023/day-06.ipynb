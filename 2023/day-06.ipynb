{
 "cells": [
  {
   "cell_type": "markdown",
   "metadata": {},
   "source": [
    "# 2023-12-06"
   ]
  },
  {
   "cell_type": "code",
   "execution_count": 1,
   "metadata": {},
   "outputs": [],
   "source": [
    "from aocd.models import Puzzle\n",
    "puzzle = Puzzle(year=2023, day=6)\n"
   ]
  },
  {
   "cell_type": "markdown",
   "metadata": {},
   "source": [
    "## Initial solution\n",
    "Woke up att 5:50am (~Midnight UTC-5) and did it on time. \n",
    "```\n",
    "      --------Part 1--------   --------Part 2--------\n",
    "Day       Time   Rank  Score       Time   Rank  Score\n",
    "  6   00:36:45  10144      0   00:41:29   9263      0\n",
    "```"
   ]
  },
  {
   "cell_type": "markdown",
   "metadata": {},
   "source": [
    "### Puzzle 1 & 2\n",
    "\n",
    "Gosh I am slow and stupid, idk why but I went down the path of thinking this was going to be a non-linear integer opimisation problem. Turns out, just iterating over the list is enough. Sad. Anyway, this was it for today. I cleaned up my code a bit but the approach is the same.\n",
    "\n",
    "Learnings for today is to not overthink it. I was thinking about how to solve this problem in a more general way, but it turns out that the problem is not that general. I should have just started coding and then I would have realised that it was a simple problem. "
   ]
  },
  {
   "cell_type": "code",
   "execution_count": 71,
   "metadata": {},
   "outputs": [],
   "source": [
    "import re\n",
    "import math\n",
    "\n",
    "digits = list(map(int, [match.group() for match in re.finditer(r\"\\d+\", puzzle.input_data)]))\n",
    "times, distances = digits[:len(digits)//2], digits[len(digits)//2:]\n",
    "\n",
    "def get_possible_wins(time, dist):\n",
    "    return sum([x * (time - x) >= dist for x in range(1, time)])\n",
    "\n",
    "puzzle.answer_a = math.prod([get_possible_wins(time, dist) for time, dist in zip(times, distances)])\n",
    "time, distance = int(\"\".join(map(str, times))), int(\"\".join(map(str, distances)))\n",
    "puzzle.answer_b = get_possible_wins(time, distance)\n"
   ]
  }
 ],
 "metadata": {
  "kernelspec": {
   "display_name": "Python 3.10.6 64-bit",
   "language": "python",
   "name": "python3"
  },
  "language_info": {
   "codemirror_mode": {
    "name": "ipython",
    "version": 3
   },
   "file_extension": ".py",
   "mimetype": "text/x-python",
   "name": "python",
   "nbconvert_exporter": "python",
   "pygments_lexer": "ipython3",
   "version": "3.11.5"
  },
  "orig_nbformat": 4,
  "vscode": {
   "interpreter": {
    "hash": "b0fa6594d8f4cbf19f97940f81e996739fb7646882a419484c72d19e05852a7e"
   }
  }
 },
 "nbformat": 4,
 "nbformat_minor": 2
}
