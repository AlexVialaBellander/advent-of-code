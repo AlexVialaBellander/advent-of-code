{
 "cells": [
  {
   "cell_type": "markdown",
   "metadata": {},
   "source": [
    "# 2023-12-09"
   ]
  },
  {
   "cell_type": "code",
   "execution_count": null,
   "metadata": {},
   "outputs": [],
   "source": [
    "from aocd.models import Puzzle\n",
    "\n",
    "puzzle = Puzzle(year=2023, day=9)\n"
   ]
  },
  {
   "cell_type": "markdown",
   "metadata": {},
   "source": [
    "## Initial solution\n",
    "Tired today, didn't do it on time and didn't do it while focused. Did it in front of the TV. Today was quite easy it felt. Not sure if my solution for backward extrapolation is good though, it is fast, but it feels like there should be a shorter way to do it.\n",
    "```\n",
    "      --------Part 1--------   --------Part 2--------\n",
    "Day       Time   Rank  Score       Time   Rank  Score\n",
    "  9   09:38:38  33664      0   10:06:28  33453      0\n",
    "```"
   ]
  },
  {
   "cell_type": "markdown",
   "metadata": {},
   "source": [
    "### Puzzle 1"
   ]
  },
  {
   "cell_type": "code",
   "execution_count": null,
   "metadata": {},
   "outputs": [],
   "source": [
    "def diff(nums):\n",
    "    return [nums[i+1] - nums[i] for i in range(len(nums)-1)]\n",
    "\n",
    "def extrapolate(row):\n",
    "    nums = list(map(int, row.split(\" \")))\n",
    "    seq_ends = []\n",
    "    while nums != ([nums[0]] * len(nums)):\n",
    "        seq_ends.append(nums[-1])\n",
    "        nums = diff(nums)\n",
    "    return sum(seq_ends + [nums[0]])\n",
    "\n",
    "puzzle.answer_a = sum([extrapolate(row) for row in puzzle.input_data.splitlines()])\n"
   ]
  },
  {
   "cell_type": "markdown",
   "metadata": {},
   "source": [
    "### Puzzle 2"
   ]
  },
  {
   "cell_type": "code",
   "execution_count": null,
   "metadata": {},
   "outputs": [],
   "source": [
    "def diff(nums):\n",
    "    return [nums[i+1] - nums[i] for i in range(len(nums)-1)]\n",
    "\n",
    "def extrapolate(row):\n",
    "    nums = list(map(int, row.split(\" \")))\n",
    "    seq_starts = []\n",
    "    while nums != ([nums[0]] * len(nums)):\n",
    "        seq_starts.append(nums[0])\n",
    "        nums = diff(nums)\n",
    "    latest_diff = nums[0]\n",
    "    for x in reversed(seq_starts):\n",
    "        latest_diff = x - latest_diff\n",
    "    return latest_diff\n",
    "\n",
    "puzzle.answer_b = sum([extrapolate(row) for row in puzzle.input_data.splitlines()])\n"
   ]
  }
 ],
 "metadata": {
  "kernelspec": {
   "display_name": "Python 3.10.6 64-bit",
   "language": "python",
   "name": "python3"
  },
  "language_info": {
   "codemirror_mode": {
    "name": "ipython",
    "version": 3
   },
   "file_extension": ".py",
   "mimetype": "text/x-python",
   "name": "python",
   "nbconvert_exporter": "python",
   "pygments_lexer": "ipython3",
   "version": "3.12.0"
  },
  "orig_nbformat": 4,
  "vscode": {
   "interpreter": {
    "hash": "b0fa6594d8f4cbf19f97940f81e996739fb7646882a419484c72d19e05852a7e"
   }
  }
 },
 "nbformat": 4,
 "nbformat_minor": 2
}
