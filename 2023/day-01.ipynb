{
 "cells": [
  {
   "cell_type": "markdown",
   "metadata": {},
   "source": [
    "# 2023-12-01"
   ]
  },
  {
   "cell_type": "code",
   "execution_count": 1,
   "metadata": {},
   "outputs": [],
   "source": [
    "from aocd.models import Puzzle\n"
   ]
  },
  {
   "cell_type": "markdown",
   "metadata": {},
   "source": [
    "## Initial solution\n",
    "Woke up att 5:50am (~Midnight UTC-5) and did it on time. \n",
    "```\n",
    "      --------Part 1--------   --------Part 2--------\n",
    "Day       Time   Rank  Score       Time   Rank  Score\n",
    "  1   00:18:59  7928      0   02:44:52  14226      0\n",
    "```"
   ]
  },
  {
   "cell_type": "markdown",
   "metadata": {},
   "source": [
    "### Puzzle 1\n",
    "\n",
    "I should have read that if there were only a single digit, it should be added twice. I totally missed that. Seems like I haven't learned anything from last year. ALEX, READ THE FKN PROBLEM STATEMENT!"
   ]
  },
  {
   "cell_type": "code",
   "execution_count": 2,
   "metadata": {},
   "outputs": [],
   "source": [
    "puzzle = Puzzle(2023, 1)\n",
    "def p1(input_data):\n",
    "    numbers = []\n",
    "    for x in input_data:\n",
    "        digits = []\n",
    "        for y in x:\n",
    "            if y.isnumeric():\n",
    "                digits.append(y)\n",
    "        numbers.append(''.join(digits))\n",
    "\n",
    "    results = []\n",
    "    for x in numbers:\n",
    "        first_digit = str(x[0])\n",
    "        if len(x) > 1:\n",
    "            last_digit = str(x[-1])\n",
    "            results.append(int(first_digit + last_digit))\n",
    "        else:\n",
    "            results.append(int(first_digit + first_digit))\n",
    "    return results\n",
    "\n",
    "ans = p1(puzzle.input_data.splitlines())\n",
    "puzzle.answer_a = sum(ans)\n"
   ]
  },
  {
   "cell_type": "markdown",
   "metadata": {},
   "source": [
    "### Puzzle 2\n",
    "More happy with this solution, my part 1 solution was a bit messy. The recursive solution in part 2 was nicer. Although, muc like many on [reddit](https://www.reddit.com/r/adventofcode/comments/1884fpl/2023_day_1for_those_who_stuck_on_part_2/). I too was very convinced that \"eighthree\" correctly parsed to \"8hree\" which it doesnt....."
   ]
  },
  {
   "cell_type": "code",
   "execution_count": 5,
   "metadata": {},
   "outputs": [],
   "source": [
    "def p2(input_data):\n",
    "    string_digits = [\"one\", \"two\", \"three\", \"four\", \"five\", \"six\", \"seven\", \"eight\", \"nine\"]\n",
    "    def find_and_replace(input: str, pointer:int = 1):\n",
    "        if pointer > len(input):\n",
    "            return \"\"\n",
    "        search_string = input[:pointer]\n",
    "        if search_string[-1].isnumeric():\n",
    "            return search_string[-1] + find_and_replace(input[pointer:], 1)\n",
    "        for digit in string_digits:\n",
    "            new_string = search_string.replace(digit, str(string_digits.index(digit) + 1))\n",
    "            if search_string != new_string:\n",
    "                return new_string + find_and_replace(input[pointer - 1:], 1)\n",
    "        return find_and_replace(input, pointer + 1)\n",
    "    \n",
    "    data = []\n",
    "    for x in input_data:\n",
    "        data.append(find_and_replace(x))\n",
    "    return sum(p1(data))\n",
    "puzzle.answer_b = p2(puzzle.input_data.splitlines())\n"
   ]
  }
 ],
 "metadata": {
  "kernelspec": {
   "display_name": "Python 3.10.6 64-bit",
   "language": "python",
   "name": "python3"
  },
  "language_info": {
   "codemirror_mode": {
    "name": "ipython",
    "version": 3
   },
   "file_extension": ".py",
   "mimetype": "text/x-python",
   "name": "python",
   "nbconvert_exporter": "python",
   "pygments_lexer": "ipython3",
   "version": "3.11.5"
  },
  "orig_nbformat": 4,
  "vscode": {
   "interpreter": {
    "hash": "b0fa6594d8f4cbf19f97940f81e996739fb7646882a419484c72d19e05852a7e"
   }
  }
 },
 "nbformat": 4,
 "nbformat_minor": 2
}
