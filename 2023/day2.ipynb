{
 "cells": [
  {
   "cell_type": "markdown",
   "metadata": {},
   "source": [
    "# 2023-12-02"
   ]
  },
  {
   "cell_type": "code",
   "execution_count": 1,
   "metadata": {},
   "outputs": [],
   "source": [
    "from aocd.models import Puzzle\n"
   ]
  },
  {
   "cell_type": "markdown",
   "metadata": {},
   "source": [
    "## Initial solution\n",
    "Woke up att 5:50am (~Midnight UTC-5) and did it on time. \n",
    "```\n",
    "      --------Part 1--------   --------Part 2--------\n",
    "Day       Time   Rank  Score       Time   Rank  Score\n",
    "  2   00:46:33  9810      0   01:06:05  10718      0\n",
    "```"
   ]
  },
  {
   "cell_type": "markdown",
   "metadata": {},
   "source": [
    "### Puzzle 1\n",
    "\n",
    "This took longer than it had too, I had some errors in my parsing that I should have checked earlier. I think that a learning opportunity here is to parse the input to the format that I want first, verify it, then proceed to solve the problem."
   ]
  },
  {
   "cell_type": "code",
   "execution_count": 147,
   "metadata": {},
   "outputs": [
    {
     "data": {
      "text/plain": [
       "'2476'"
      ]
     },
     "execution_count": 147,
     "metadata": {},
     "output_type": "execute_result"
    }
   ],
   "source": [
    "from collections import defaultdict\n",
    "puzzle = Puzzle(2023, 2)\n",
    "\n",
    "target = dict(red=12, green=13, blue=14)\n",
    "\n",
    "zifn = lambda x : 0 if not x else x\n",
    "\n",
    "def data_parser(data: list) -> dict:\n",
    "    data:list = [x.split(\":\") for x in data]\n",
    "    data:dict = {x[0].split(\" \")[-1]: x[1:] for x in data}\n",
    "    data:dict = {id: content[0].split(\";\") for id, content in data.items()}\n",
    "    parsed_data = defaultdict(list) \n",
    "    for id, sets in data.items():\n",
    "        for set in sets:\n",
    "            parts = [x.split(\" \") for x in set.split(\",\")]\n",
    "            parsed_data[id].append({x[2]:int(x[1]) for x in parts if x[1] != \"\"})\n",
    "    return parsed_data\n",
    "\n",
    "def p1(data: list) -> int:\n",
    "    data:dict = data_parser(data)\n",
    "    playable_games = []\n",
    "    for id, sets in data.items():\n",
    "        if all([all([zifn(game_set.get(ckey)) <= target[ckey] for ckey in target]) for game_set in sets]):\n",
    "            playable_games.append(id)\n",
    "    return sum([int(x) for x in playable_games])\n",
    "puzzle.answer_a = p1(puzzle.input_data.splitlines())\n",
    "puzzle.answer_a \n"
   ]
  },
  {
   "cell_type": "markdown",
   "metadata": {},
   "source": [
    "### Puzzle 2\n",
    "Part 2 today was relatively easy given my parsing strategy in puzzle 1. However, the learnings from this session is how do multiply a list of elements together. Traditionally, in my DS practice, I would have used `np.prod` but I wanted to do it in standard python and had to look if there was a built-in function for it. Turns out there is: `math.prod`."
   ]
  },
  {
   "cell_type": "code",
   "execution_count": 148,
   "metadata": {},
   "outputs": [
    {
     "data": {
      "text/plain": [
       "'54911'"
      ]
     },
     "execution_count": 148,
     "metadata": {},
     "output_type": "execute_result"
    }
   ],
   "source": [
    "import math\n",
    "\n",
    "def p2(data: list):\n",
    "    data:dict = data_parser(data)\n",
    "    game_minimums = {}\n",
    "    for id, sets in data.items():\n",
    "        game_minimums[id] = {}\n",
    "        for game_set in sets:\n",
    "            for ckey in target:\n",
    "                game_minimums[id][ckey] = max(game_minimums[id].get(ckey, 0), zifn(game_set.get(ckey)))\n",
    "    return sum([math.prod(x.values()) for x in game_minimums.values()])\n",
    "puzzle.answer_b = p2(puzzle.input_data.splitlines())\n",
    "puzzle.answer_b\n"
   ]
  }
 ],
 "metadata": {
  "kernelspec": {
   "display_name": "Python 3.10.6 64-bit",
   "language": "python",
   "name": "python3"
  },
  "language_info": {
   "codemirror_mode": {
    "name": "ipython",
    "version": 3
   },
   "file_extension": ".py",
   "mimetype": "text/x-python",
   "name": "python",
   "nbconvert_exporter": "python",
   "pygments_lexer": "ipython3",
   "version": "3.11.5"
  },
  "orig_nbformat": 4,
  "vscode": {
   "interpreter": {
    "hash": "b0fa6594d8f4cbf19f97940f81e996739fb7646882a419484c72d19e05852a7e"
   }
  }
 },
 "nbformat": 4,
 "nbformat_minor": 2
}
