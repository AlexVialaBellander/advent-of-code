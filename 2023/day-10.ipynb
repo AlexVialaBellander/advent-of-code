{
 "cells": [
  {
   "cell_type": "markdown",
   "metadata": {},
   "source": [
    "# 2023-12-10"
   ]
  },
  {
   "cell_type": "code",
   "execution_count": null,
   "metadata": {},
   "outputs": [],
   "source": [
    "from aocd.models import Puzzle\n",
    "\n",
    "puzzle = Puzzle(year=2023, day=10)\n"
   ]
  },
  {
   "cell_type": "markdown",
   "metadata": {},
   "source": [
    "## Initial solution\n",
    "Did not do it on time today. Part 1 felt easy, just BFS and stopping when you reach a peak (neighbors should have same dist value). Part 2 was really difficult. I didn't know the theory required, such as:\n",
    "\n",
    "[Even–odd rule](https://en.wikipedia.org/wiki/Even%E2%80%93odd_rule) <br>\n",
    "[Jordan curve theorem](https://en.wikipedia.org/wiki/Jordan_curve_theorem)\n",
    "\n",
    "I had to look these up. I spent a really long time on day 2 today. Implementation was difficult due to the discret nature and edge cases.\n",
    "```\n",
    "      --------Part 1--------   --------Part 2--------\n",
    "Day       Time   Rank  Score       Time   Rank  Score\n",
    " 10   08:57:49  24480      0   19:37:54  25658      0\n",
    "\n",
    "```"
   ]
  },
  {
   "cell_type": "markdown",
   "metadata": {},
   "source": [
    "### Puzzle 1"
   ]
  },
  {
   "cell_type": "code",
   "execution_count": null,
   "metadata": {},
   "outputs": [],
   "source": [
    "import numpy as np\n",
    "\n",
    "data = puzzle.input_data\n",
    "s_index = data.replace(\"\\n\", \"\").find(\"S\")\n",
    "n_cols, n_rows = len(data.splitlines()[0]), len(data.splitlines())\n",
    "s_row, s_col = s_index//n_cols, s_index % n_cols\n",
    "\n",
    "grid = np.array([list(x) for x in data.splitlines()])\n",
    "\n",
    "table = {\n",
    "    \"|\" : lambda r, c: [(r+1, c), (r-1, c)],\n",
    "    \"-\" : lambda r, c: [(r, c-1), (r, c+1)],\n",
    "    \"L\" : lambda r, c: [(r, c+1), (r-1, c)],\n",
    "    \"J\" : lambda r, c: [(r-1, c), (r, c-1)],\n",
    "    \"7\": lambda r, c: [(r, c-1), (r+1, c)],\n",
    "    \"F\": lambda r, c: [(r+1, c), (r, c+1)],\n",
    "    \".\": lambda r, c: [],\n",
    "    \"S\": lambda r, c: [(r, c+1), (r, c-1), (r+1, c), (r-1, c)],\n",
    "}\n",
    "\n",
    "def in_bounds(r, c):\n",
    "    return 0 <= r < n_rows and 0 <= c < n_cols\n",
    "\n",
    "def find_loop_max(grid):\n",
    "    queue = []\n",
    "    visited = set()\n",
    "    dist_matrix = np.zeros_like(grid, dtype=int)\n",
    "    # Do the first step manually\n",
    "    potential_start_neighbours = [x for x in table.get(grid[s_row, s_col])(s_row, s_col) if in_bounds(*x)]\n",
    "    queue += [x for x in potential_start_neighbours if (s_row, s_col) in table.get(grid[x])(*x)]\n",
    "    visited |= {(s_row, s_col)}\n",
    "    while queue:\n",
    "        r, c = queue.pop(0)\n",
    "        visited |= {(r, c)}\n",
    "        neighbours = [x for x in table.get(grid[r, c])(r, c) if in_bounds(*x)]\n",
    "        if not neighbours:\n",
    "            continue\n",
    "        dist_matrix[r, c] = min([dist_matrix[x] for x in neighbours if x in visited]) + 1\n",
    "        queue += [x for x in neighbours if x not in visited]\n",
    "        if dist_matrix[neighbours[0]] != 0 and len(neighbours) == 2 and dist_matrix[neighbours[0]] == dist_matrix[neighbours[1]]:\n",
    "            return (r, c), dist_matrix[r, c], dist_matrix, visited\n",
    "    raise Exception(\"No loop found\")\n",
    "\n",
    "point, max_val, dist_matrix, visited = find_loop_max(grid)\n",
    "puzzle.answer_a = int(max_val)\n"
   ]
  },
  {
   "cell_type": "markdown",
   "metadata": {},
   "source": [
    "### Puzzle 2"
   ]
  },
  {
   "cell_type": "code",
   "execution_count": null,
   "metadata": {},
   "outputs": [],
   "source": [
    "inside = set()\n",
    "\n",
    "for r in range(n_rows):\n",
    "    for c in range(n_cols):\n",
    "        if (r, c) in visited:\n",
    "            continue\n",
    "        crossings = 0\n",
    "        verticies = []\n",
    "        for c_ray in range(c, n_cols):\n",
    "            if (r, c_ray) in visited and grid[r, c_ray] == \"|\":\n",
    "                crossings += 1\n",
    "            if (r, c_ray) in visited and grid[r, c_ray] in [\"S\", \"L\", \"J\", \"7\", \"F\"]:\n",
    "                verticies.append(grid[(r, c_ray)])\n",
    "            if len(verticies) == 2:\n",
    "                if \"\".join(verticies) in [\"FJ\", \"L7\", \"S7\", \"SJ\", \"FS\", \"LS\"]:\n",
    "                    crossings += 1\n",
    "                verticies = []\n",
    "        if crossings % 2 == 1:\n",
    "            inside |= {(r, c)} \n",
    "puzzle.answer_b = len(inside)\n"
   ]
  },
  {
   "cell_type": "code",
   "execution_count": null,
   "metadata": {},
   "outputs": [],
   "source": []
  }
 ],
 "metadata": {
  "kernelspec": {
   "display_name": "Python 3.10.6 64-bit",
   "language": "python",
   "name": "python3"
  },
  "language_info": {
   "codemirror_mode": {
    "name": "ipython",
    "version": 3
   },
   "file_extension": ".py",
   "mimetype": "text/x-python",
   "name": "python",
   "nbconvert_exporter": "python",
   "pygments_lexer": "ipython3",
   "version": "3.12.0"
  },
  "orig_nbformat": 4,
  "vscode": {
   "interpreter": {
    "hash": "b0fa6594d8f4cbf19f97940f81e996739fb7646882a419484c72d19e05852a7e"
   }
  }
 },
 "nbformat": 4,
 "nbformat_minor": 2
}
