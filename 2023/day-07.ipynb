{
 "cells": [
  {
   "cell_type": "markdown",
   "metadata": {},
   "source": [
    "# 2023-12-07"
   ]
  },
  {
   "cell_type": "code",
   "execution_count": 1,
   "metadata": {},
   "outputs": [],
   "source": [
    "from aocd.models import Puzzle\n",
    "\n",
    "puzzle = Puzzle(year=2023, day=7)"
   ]
  },
  {
   "cell_type": "markdown",
   "metadata": {},
   "source": [
    "## Initial solution\n",
    "In transit due to business trip, started at (UTC-5:35) (T+35 minutes)\n",
    "```\n",
    "      --------Part 1--------   --------Part 2--------\n",
    "Day       Time   Rank  Score       Time   Rank  Score\n",
    "  7   01:49:04  11003      0   02:52:36  11162      0\n",
    "```"
   ]
  },
  {
   "cell_type": "markdown",
   "metadata": {},
   "source": [
    "### Puzzle 1 & 2"
   ]
  },
  {
   "cell_type": "code",
   "execution_count": 3,
   "metadata": {},
   "outputs": [],
   "source": [
    "import numpy as np\n",
    "from collections import Counter\n",
    "from functools import cmp_to_key\n",
    "\n",
    "hands = [\n",
    "    \"five_of_a_kind\",\n",
    "    \"four_of_a_kind\",\n",
    "    \"full_house\",\n",
    "    \"three_of_a_kind\",\n",
    "    \"two_pairs\",\n",
    "    \"one_pair\",\n",
    "    \"high_card\",\n",
    "]\n",
    "mapping = {\n",
    "    5: \"five_of_a_kind\",\n",
    "    4: \"four_of_a_kind\",\n",
    "    (3, 2): \"full_house\",\n",
    "    3: \"three_of_a_kind\",\n",
    "    (2, 2): \"two_pairs\",\n",
    "    2: \"one_pair\",\n",
    "    1: \"high_card\",\n",
    "}\n",
    "cards_map = {\"A\": 14, \"K\": 13, \"Q\": 12, \"J\": 11, \"T\": 10}\n",
    "cards_map_p2 = {\"A\": 14, \"K\": 13, \"Q\": 12, \"J\": 1, \"T\": 10}\n",
    "\n",
    "\n",
    "class Hand:\n",
    "    @staticmethod\n",
    "    def score(cards, mode=\"p1\"):\n",
    "        counts = Counter(cards)\n",
    "        most_common = counts.most_common(1)\n",
    "        if most_common[0][1] == 5:\n",
    "            return mapping[5]\n",
    "        if mode == \"p2\":\n",
    "            while \"J\" in cards:\n",
    "                most_freq = [x[1] for x in counts.most_common() if x[0] != \"J\"][0]\n",
    "                top_candidates = [\n",
    "                    (key, val)\n",
    "                    for key, val in counts.items()\n",
    "                    if val == most_freq and key != \"J\"\n",
    "                ]\n",
    "                if top_candidates == []:\n",
    "                    return mapping[5]\n",
    "                card_to_add = top_candidates[0][0]\n",
    "                cards = cards.replace(\"J\", card_to_add)\n",
    "            counts = Counter(cards)\n",
    "        if counts.most_common(1)[0][1] == 5:\n",
    "            return mapping[5]\n",
    "        try:\n",
    "            most_common, second_most_common = counts.most_common(2)\n",
    "        except ValueError:\n",
    "            print(counts)\n",
    "        if second_most_common[1] == 2:\n",
    "            return mapping[(most_common[1], second_most_common[1])]\n",
    "        else:\n",
    "            return mapping[most_common[1]]\n",
    "\n",
    "    @staticmethod\n",
    "    def calculate_rank(hand_type):\n",
    "        return 5 - hands.index(hand_type)\n",
    "\n",
    "    def __init__(self, cards, bid=0, mode=\"p1\") -> None:\n",
    "        self.cards = cards\n",
    "        self.hand = self.score(cards, mode=mode)\n",
    "        self.rank = self.calculate_rank(self.hand)\n",
    "        self.bid = int(bid)\n",
    "        card_val_mapping = cards_map if mode == \"p1\" else cards_map_p2\n",
    "        self.cards_val = [int(card_val_mapping.get(x, x)) for x in cards]\n",
    "\n",
    "\n",
    "def comperator(hand1: Hand, hand2: Hand):\n",
    "    if hand1.rank > hand2.rank:\n",
    "        return 1\n",
    "    elif hand1.rank < hand2.rank:\n",
    "        return -1\n",
    "    elif hand1.cards_val < hand2.cards_val:\n",
    "        return -1\n",
    "    return 1\n",
    "\n",
    "\n",
    "games = np.array([x.split(\" \") for x in puzzle.input_data.splitlines()])\n",
    "player_hands = list(map(lambda x, y: Hand(x, y), games[:, 0], games[:, 1]))\n",
    "player_hands.sort(key=cmp_to_key(comperator), reverse=True)\n",
    "puzzle.answer_a = sum(\n",
    "    [(len(player_hands) - i) * x.bid for i, x in enumerate(player_hands)]\n",
    ")\n",
    "\n",
    "player_hands = list(map(lambda x, y: Hand(x, y, mode=\"p2\"), games[:, 0], games[:, 1]))\n",
    "player_hands.sort(key=cmp_to_key(comperator), reverse=True)\n",
    "puzzle.answer_b = sum(\n",
    "    [(len(player_hands) - i) * x.bid for i, x in enumerate(player_hands)]\n",
    ")"
   ]
  }
 ],
 "metadata": {
  "kernelspec": {
   "display_name": "Python 3.10.6 64-bit",
   "language": "python",
   "name": "python3"
  },
  "language_info": {
   "codemirror_mode": {
    "name": "ipython",
    "version": 3
   },
   "file_extension": ".py",
   "mimetype": "text/x-python",
   "name": "python",
   "nbconvert_exporter": "python",
   "pygments_lexer": "ipython3",
   "version": "3.12.0"
  },
  "orig_nbformat": 4,
  "vscode": {
   "interpreter": {
    "hash": "b0fa6594d8f4cbf19f97940f81e996739fb7646882a419484c72d19e05852a7e"
   }
  }
 },
 "nbformat": 4,
 "nbformat_minor": 2
}
